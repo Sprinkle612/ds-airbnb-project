{
 "cells": [
  {
   "cell_type": "code",
   "execution_count": 106,
   "metadata": {},
   "outputs": [],
   "source": [
    "import pandas as pd\n",
    "import numpy as np\n",
    "# import matplotlib\n",
    "# import seaborn as sb\n",
    "# import matplotlib.pyplot as plt\n",
    "# import matplotlib.cm as cmx\n",
    "# import matplotlib.colors as colors\n",
    "# import math\n",
    "# import pylab\n",
    "# import scipy.stats as stats\n",
    "# import seaborn as sns\n",
    "# from sklearn import preprocessing\n",
    "# from sklearn.preprocessing import OneHotEncoder\n",
    "# from sklearn.linear_model import LinearRegression, RidgeCV, LassoCV\n",
    "# from sklearn import metrics"
   ]
  },
  {
   "cell_type": "code",
   "execution_count": 107,
   "metadata": {},
   "outputs": [],
   "source": [
    "zipcode = '10044'\n",
    "property_cat = 'apartment'"
   ]
  },
  {
   "cell_type": "code",
   "execution_count": 108,
   "metadata": {},
   "outputs": [],
   "source": [
    "temp = pd.read_csv(\"./saved-models/zipcode-neigh-dic.csv\", header=0)\n",
    "zip_neigh_dic = dict(zip(temp.zipcode, temp.neighbourhood_cleansed))"
   ]
  },
  {
   "cell_type": "code",
   "execution_count": 109,
   "metadata": {},
   "outputs": [
    {
     "name": "stdout",
     "output_type": "stream",
     "text": [
      "Roosevelt Island\n"
     ]
    }
   ],
   "source": [
    "neigh = zip_neigh_dic.get(int(zipcode))\n",
    "print(neigh)"
   ]
  },
  {
   "cell_type": "code",
   "execution_count": 110,
   "metadata": {},
   "outputs": [],
   "source": [
    "# read le\n",
    "temp = pd.read_csv(\"./saved-models/neighbourhood-le.csv\", header=0)\n",
    "neigh_le = dict(zip(temp.neighbourhood_cleansed, temp.temp))\n",
    "temp = pd.read_csv(\"./saved-models/property_cat-le.csv\", header=0)\n",
    "property_cat_le = dict(zip(temp.property_cat, temp.temp))\n"
   ]
  },
  {
   "cell_type": "code",
   "execution_count": 111,
   "metadata": {},
   "outputs": [],
   "source": [
    "input = pd.DataFrame(np.array([neigh]), columns=['neigh'])\n",
    "input['neigh_encoded'] = input.neigh.apply(lambda x: neigh_le.get(x))\n",
    "\n",
    "input['property_cat'] = np.array([property_cat])\n",
    "input['prop_encoded'] = input.property_cat.apply(lambda x: property_cat_le.get(x))"
   ]
  },
  {
   "cell_type": "code",
   "execution_count": 112,
   "metadata": {},
   "outputs": [
    {
     "data": {
      "text/html": [
       "<div>\n",
       "<style scoped>\n",
       "    .dataframe tbody tr th:only-of-type {\n",
       "        vertical-align: middle;\n",
       "    }\n",
       "\n",
       "    .dataframe tbody tr th {\n",
       "        vertical-align: top;\n",
       "    }\n",
       "\n",
       "    .dataframe thead th {\n",
       "        text-align: right;\n",
       "    }\n",
       "</style>\n",
       "<table border=\"1\" class=\"dataframe\">\n",
       "  <thead>\n",
       "    <tr style=\"text-align: right;\">\n",
       "      <th></th>\n",
       "      <th>neigh</th>\n",
       "      <th>neigh_encoded</th>\n",
       "      <th>property_cat</th>\n",
       "      <th>prop_encoded</th>\n",
       "    </tr>\n",
       "  </thead>\n",
       "  <tbody>\n",
       "    <tr>\n",
       "      <th>0</th>\n",
       "      <td>Roosevelt Island</td>\n",
       "      <td>171</td>\n",
       "      <td>apartment</td>\n",
       "      <td>0</td>\n",
       "    </tr>\n",
       "  </tbody>\n",
       "</table>\n",
       "</div>"
      ],
      "text/plain": [
       "              neigh  neigh_encoded property_cat  prop_encoded\n",
       "0  Roosevelt Island            171    apartment             0"
      ]
     },
     "execution_count": 112,
     "metadata": {},
     "output_type": "execute_result"
    }
   ],
   "source": [
    "input"
   ]
  },
  {
   "cell_type": "code",
   "execution_count": 113,
   "metadata": {},
   "outputs": [],
   "source": [
    "# data_X - 10 columns\n",
    "# input = [\n",
    "#     ['neighbourhood_cleansed',],\n",
    "#     ['room_type',]\n",
    "#     ['accommodates',],\n",
    "#     ['bathrooms',],\n",
    "#     ['bedrooms',],\n",
    "#     ['beds',],\n",
    "#     ['guests_included',],\n",
    "#     ['cancellation_policy',],\n",
    "#     ['review_cat',],\n",
    "#     ['property_cat',],\n",
    "# ]\n",
    "\n",
    "# part1 - 6 columns\n",
    "# listing_part1 = [\n",
    "#     ['cleaning_fee'],\n",
    "#     ['number_of_reviews'],\n",
    "#     ['host_months'],\n",
    "#     ['extra_people'],\n",
    "#     ['minimum_nights'],\n",
    "#     ['availability_30']\n",
    "# ]"
   ]
  },
  {
   "cell_type": "code",
   "execution_count": null,
   "metadata": {},
   "outputs": [],
   "source": []
  }
 ],
 "metadata": {
  "kernelspec": {
   "display_name": "Python 3",
   "language": "python",
   "name": "python3"
  },
  "language_info": {
   "codemirror_mode": {
    "name": "ipython",
    "version": 3
   },
   "file_extension": ".py",
   "mimetype": "text/x-python",
   "name": "python",
   "nbconvert_exporter": "python",
   "pygments_lexer": "ipython3",
   "version": "3.7.6"
  }
 },
 "nbformat": 4,
 "nbformat_minor": 4
}

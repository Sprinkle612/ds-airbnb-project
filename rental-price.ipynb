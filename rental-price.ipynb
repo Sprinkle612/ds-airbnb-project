{
 "cells": [
  {
   "cell_type": "code",
   "execution_count": 5,
   "metadata": {},
   "outputs": [],
   "source": [
    "import pandas as pd\n",
    "import numpy as np\n",
    "import re"
   ]
  },
  {
   "cell_type": "code",
   "execution_count": 45,
   "metadata": {},
   "outputs": [],
   "source": [
    "df = pd.read_csv(\"data/nyc.csv\")\n",
    "del df['Unnamed: 0']"
   ]
  },
  {
   "cell_type": "code",
   "execution_count": 46,
   "metadata": {
    "scrolled": true
   },
   "outputs": [],
   "source": [
    "names = list(map(lambda x: x.replace('\\n','').replace(' ',\"_\"), df.columns))"
   ]
  },
  {
   "cell_type": "code",
   "execution_count": 47,
   "metadata": {},
   "outputs": [],
   "source": [
    "dictionary = dict(zip(df.columns.tolist(), names))"
   ]
  },
  {
   "cell_type": "code",
   "execution_count": 48,
   "metadata": {
    "scrolled": true
   },
   "outputs": [],
   "source": [
    "df.rename(dictionary, axis='columns', inplace=True)"
   ]
  },
  {
   "cell_type": "code",
   "execution_count": 49,
   "metadata": {
    "scrolled": true
   },
   "outputs": [
    {
     "name": "stderr",
     "output_type": "stream",
     "text": [
      "/Users/rainyleon/anaconda3/lib/python3.6/site-packages/pandas/core/ops.py:1649: FutureWarning: elementwise comparison failed; returning scalar instead, but in the future will perform elementwise comparison\n",
      "  result = method(y)\n"
     ]
    }
   ],
   "source": [
    "df.drop(df[df['SALE_PRICE']=='0'].index, inplace=True)"
   ]
  },
  {
   "cell_type": "code",
   "execution_count": 50,
   "metadata": {},
   "outputs": [
    {
     "data": {
      "text/plain": [
       "Index(['BOROUGH', 'NEIGHBORHOOD', 'BUILDING_CLASS_CATEGORY',\n",
       "       'TAX_CLASS_AT_PRESENT', 'BLOCK', 'LOT', 'EASE-MENT',\n",
       "       'BUILDING_CLASS_AT_PRESENT', 'ADDRESS', 'APARTMENT_NUMBER', 'ZIP_CODE',\n",
       "       'RESIDENTIAL_UNITS', 'COMMERCIAL_UNITS', 'TOTAL_UNITS',\n",
       "       'LAND_SQUARE_FEET', 'GROSS_SQUARE_FEET', 'YEAR_BUILT',\n",
       "       'TAX_CLASS_AT_TIME_OF_SALE', 'BUILDING_CLASS_AT_TIME_OF_SALE',\n",
       "       'SALE_PRICE', 'SALE_DATE'],\n",
       "      dtype='object')"
      ]
     },
     "execution_count": 50,
     "metadata": {},
     "output_type": "execute_result"
    }
   ],
   "source": [
    "df.columns"
   ]
  },
  {
   "cell_type": "code",
   "execution_count": 51,
   "metadata": {},
   "outputs": [
    {
     "data": {
      "text/plain": [
       "1515301.8914142654"
      ]
     },
     "execution_count": 51,
     "metadata": {},
     "output_type": "execute_result"
    }
   ],
   "source": [
    "np.mean(df['SALE_PRICE'])"
   ]
  },
  {
   "cell_type": "code",
   "execution_count": 52,
   "metadata": {},
   "outputs": [
    {
     "data": {
      "text/plain": [
       "13552051.501393983"
      ]
     },
     "execution_count": 52,
     "metadata": {},
     "output_type": "execute_result"
    }
   ],
   "source": [
    "np.std(df['SALE_PRICE'])"
   ]
  },
  {
   "cell_type": "code",
   "execution_count": 53,
   "metadata": {},
   "outputs": [],
   "source": [
    "lst = ['A1','A2','A4','A5', 'C1',\n",
    " 'C2',\n",
    " 'C3',\n",
    " 'C4',\n",
    " 'C5',\n",
    " 'C6',\n",
    " 'C7',\n",
    "'D0',\n",
    " 'D1',\n",
    " 'D2',\n",
    " 'D3',\n",
    " 'D4',\n",
    " 'D5',\n",
    " 'D6',\n",
    " 'D7',\n",
    " 'D8',\n",
    " 'D9',\n",
    "'L1','L2','L3','L8','L9',\n",
    "'R1','R2','R3','R4','R5','R6','R7','R8',\n",
    "'H','RH','A3', 'A6','A7','A9',\n",
    "       'B1',\n",
    " 'B2',\n",
    " 'B3',\n",
    " 'B9','CM'\n",
    "]"
   ]
  },
  {
   "cell_type": "code",
   "execution_count": 54,
   "metadata": {},
   "outputs": [
    {
     "data": {
      "text/plain": [
       "(81484, 21)"
      ]
     },
     "execution_count": 54,
     "metadata": {},
     "output_type": "execute_result"
    }
   ],
   "source": [
    "df.shape"
   ]
  },
  {
   "cell_type": "code",
   "execution_count": 55,
   "metadata": {},
   "outputs": [],
   "source": [
    "df = df[df.BUILDING_CLASS_AT_TIME_OF_SALE.isin(lst)]"
   ]
  },
  {
   "cell_type": "code",
   "execution_count": 56,
   "metadata": {},
   "outputs": [
    {
     "data": {
      "text/plain": [
       "Index(['BOROUGH', 'NEIGHBORHOOD', 'BUILDING_CLASS_CATEGORY',\n",
       "       'TAX_CLASS_AT_PRESENT', 'BLOCK', 'LOT', 'EASE-MENT',\n",
       "       'BUILDING_CLASS_AT_PRESENT', 'ADDRESS', 'APARTMENT_NUMBER', 'ZIP_CODE',\n",
       "       'RESIDENTIAL_UNITS', 'COMMERCIAL_UNITS', 'TOTAL_UNITS',\n",
       "       'LAND_SQUARE_FEET', 'GROSS_SQUARE_FEET', 'YEAR_BUILT',\n",
       "       'TAX_CLASS_AT_TIME_OF_SALE', 'BUILDING_CLASS_AT_TIME_OF_SALE',\n",
       "       'SALE_PRICE', 'SALE_DATE'],\n",
       "      dtype='object')"
      ]
     },
     "execution_count": 56,
     "metadata": {},
     "output_type": "execute_result"
    }
   ],
   "source": [
    "df.columns"
   ]
  },
  {
   "cell_type": "code",
   "execution_count": 57,
   "metadata": {},
   "outputs": [
    {
     "data": {
      "text/plain": [
       "21"
      ]
     },
     "execution_count": 57,
     "metadata": {},
     "output_type": "execute_result"
    }
   ],
   "source": [
    "len(set(df))"
   ]
  },
  {
   "cell_type": "code",
   "execution_count": 58,
   "metadata": {},
   "outputs": [],
   "source": [
    "prop_cat = []\n",
    "for t in df.BUILDING_CLASS_AT_TIME_OF_SALE.tolist():\n",
    "    if t == 'CM':\n",
    "        prop_cat.append('other')\n",
    "    elif t.find('H') != -1:\n",
    "        prop_cat.append('Hotel')\n",
    "    elif t in [\"A3\",\"A6\",\"A7\",\"A9\"] or t.find('B') != -1:\n",
    "        prop_cat.append('House')\n",
    "    else:\n",
    "        prop_cat.append('Apartment')"
   ]
  },
  {
   "cell_type": "code",
   "execution_count": 59,
   "metadata": {},
   "outputs": [],
   "source": [
    "df['prop_cat'] = prop_cat"
   ]
  },
  {
   "cell_type": "code",
   "execution_count": 60,
   "metadata": {},
   "outputs": [
    {
     "data": {
      "text/plain": [
       "(67041, 22)"
      ]
     },
     "execution_count": 60,
     "metadata": {},
     "output_type": "execute_result"
    }
   ],
   "source": [
    "df.shape"
   ]
  },
  {
   "cell_type": "code",
   "execution_count": 61,
   "metadata": {
    "scrolled": true
   },
   "outputs": [
    {
     "data": {
      "text/plain": [
       "Index(['BOROUGH', 'NEIGHBORHOOD', 'BUILDING_CLASS_CATEGORY',\n",
       "       'TAX_CLASS_AT_PRESENT', 'BLOCK', 'LOT', 'EASE-MENT',\n",
       "       'BUILDING_CLASS_AT_PRESENT', 'ADDRESS', 'APARTMENT_NUMBER', 'ZIP_CODE',\n",
       "       'RESIDENTIAL_UNITS', 'COMMERCIAL_UNITS', 'TOTAL_UNITS',\n",
       "       'LAND_SQUARE_FEET', 'GROSS_SQUARE_FEET', 'YEAR_BUILT',\n",
       "       'TAX_CLASS_AT_TIME_OF_SALE', 'BUILDING_CLASS_AT_TIME_OF_SALE',\n",
       "       'SALE_PRICE', 'SALE_DATE', 'prop_cat'],\n",
       "      dtype='object')"
      ]
     },
     "execution_count": 61,
     "metadata": {},
     "output_type": "execute_result"
    }
   ],
   "source": [
    "df.columns"
   ]
  },
  {
   "cell_type": "code",
   "execution_count": 62,
   "metadata": {},
   "outputs": [],
   "source": [
    "df = df[['ZIP_CODE', 'LAND_SQUARE_FEET', 'YEAR_BUILT', 'prop_cat', \"SALE_PRICE\"]]"
   ]
  },
  {
   "cell_type": "code",
   "execution_count": 63,
   "metadata": {},
   "outputs": [
    {
     "data": {
      "text/html": [
       "<div>\n",
       "<style scoped>\n",
       "    .dataframe tbody tr th:only-of-type {\n",
       "        vertical-align: middle;\n",
       "    }\n",
       "\n",
       "    .dataframe tbody tr th {\n",
       "        vertical-align: top;\n",
       "    }\n",
       "\n",
       "    .dataframe thead th {\n",
       "        text-align: right;\n",
       "    }\n",
       "</style>\n",
       "<table border=\"1\" class=\"dataframe\">\n",
       "  <thead>\n",
       "    <tr style=\"text-align: right;\">\n",
       "      <th></th>\n",
       "      <th>ZIP_CODE</th>\n",
       "      <th>LAND_SQUARE_FEET</th>\n",
       "      <th>YEAR_BUILT</th>\n",
       "      <th>prop_cat</th>\n",
       "      <th>SALE_PRICE</th>\n",
       "    </tr>\n",
       "  </thead>\n",
       "  <tbody>\n",
       "    <tr>\n",
       "      <th>0</th>\n",
       "      <td>10457.0</td>\n",
       "      <td>1622.0</td>\n",
       "      <td>1899.0</td>\n",
       "      <td>Apartment</td>\n",
       "      <td>458000</td>\n",
       "    </tr>\n",
       "    <tr>\n",
       "      <th>1</th>\n",
       "      <td>10457.0</td>\n",
       "      <td>1646.0</td>\n",
       "      <td>1899.0</td>\n",
       "      <td>Apartment</td>\n",
       "      <td>275000</td>\n",
       "    </tr>\n",
       "    <tr>\n",
       "      <th>2</th>\n",
       "      <td>10457.0</td>\n",
       "      <td>1694.0</td>\n",
       "      <td>1899.0</td>\n",
       "      <td>Apartment</td>\n",
       "      <td>388500</td>\n",
       "    </tr>\n",
       "    <tr>\n",
       "      <th>3</th>\n",
       "      <td>10458.0</td>\n",
       "      <td>1095.0</td>\n",
       "      <td>1910.0</td>\n",
       "      <td>House</td>\n",
       "      <td>110000</td>\n",
       "    </tr>\n",
       "    <tr>\n",
       "      <th>4</th>\n",
       "      <td>10458.0</td>\n",
       "      <td>1095.0</td>\n",
       "      <td>1910.0</td>\n",
       "      <td>House</td>\n",
       "      <td>165000</td>\n",
       "    </tr>\n",
       "    <tr>\n",
       "      <th>5</th>\n",
       "      <td>10457.0</td>\n",
       "      <td>1986.0</td>\n",
       "      <td>1899.0</td>\n",
       "      <td>Apartment</td>\n",
       "      <td>420000</td>\n",
       "    </tr>\n",
       "    <tr>\n",
       "      <th>6</th>\n",
       "      <td>10457.0</td>\n",
       "      <td>2000.0</td>\n",
       "      <td>1993.0</td>\n",
       "      <td>House</td>\n",
       "      <td>0</td>\n",
       "    </tr>\n",
       "    <tr>\n",
       "      <th>7</th>\n",
       "      <td>10457.0</td>\n",
       "      <td>2000.0</td>\n",
       "      <td>1993.0</td>\n",
       "      <td>House</td>\n",
       "      <td>0</td>\n",
       "    </tr>\n",
       "    <tr>\n",
       "      <th>8</th>\n",
       "      <td>10457.0</td>\n",
       "      <td>2000.0</td>\n",
       "      <td>1993.0</td>\n",
       "      <td>House</td>\n",
       "      <td>505000</td>\n",
       "    </tr>\n",
       "    <tr>\n",
       "      <th>9</th>\n",
       "      <td>10457.0</td>\n",
       "      <td>2000.0</td>\n",
       "      <td>1993.0</td>\n",
       "      <td>House</td>\n",
       "      <td>630000</td>\n",
       "    </tr>\n",
       "    <tr>\n",
       "      <th>10</th>\n",
       "      <td>10456.0</td>\n",
       "      <td>1900.0</td>\n",
       "      <td>1994.0</td>\n",
       "      <td>House</td>\n",
       "      <td>535000</td>\n",
       "    </tr>\n",
       "    <tr>\n",
       "      <th>11</th>\n",
       "      <td>10457.0</td>\n",
       "      <td>2361.0</td>\n",
       "      <td>1995.0</td>\n",
       "      <td>House</td>\n",
       "      <td>0</td>\n",
       "    </tr>\n",
       "    <tr>\n",
       "      <th>12</th>\n",
       "      <td>10457.0</td>\n",
       "      <td>2000.0</td>\n",
       "      <td>1899.0</td>\n",
       "      <td>House</td>\n",
       "      <td>365000</td>\n",
       "    </tr>\n",
       "    <tr>\n",
       "      <th>13</th>\n",
       "      <td>10457.0</td>\n",
       "      <td>1556.0</td>\n",
       "      <td>1899.0</td>\n",
       "      <td>House</td>\n",
       "      <td>310000</td>\n",
       "    </tr>\n",
       "    <tr>\n",
       "      <th>14</th>\n",
       "      <td>10457.0</td>\n",
       "      <td>2250.0</td>\n",
       "      <td>1995.0</td>\n",
       "      <td>House</td>\n",
       "      <td>645000</td>\n",
       "    </tr>\n",
       "    <tr>\n",
       "      <th>15</th>\n",
       "      <td>10457.0</td>\n",
       "      <td>1826.0</td>\n",
       "      <td>1899.0</td>\n",
       "      <td>House</td>\n",
       "      <td>1</td>\n",
       "    </tr>\n",
       "    <tr>\n",
       "      <th>16</th>\n",
       "      <td>10458.0</td>\n",
       "      <td>2033.0</td>\n",
       "      <td>1997.0</td>\n",
       "      <td>House</td>\n",
       "      <td>640000</td>\n",
       "    </tr>\n",
       "    <tr>\n",
       "      <th>17</th>\n",
       "      <td>10457.0</td>\n",
       "      <td>2785.0</td>\n",
       "      <td>1998.0</td>\n",
       "      <td>House</td>\n",
       "      <td>610000</td>\n",
       "    </tr>\n",
       "    <tr>\n",
       "      <th>18</th>\n",
       "      <td>10457.0</td>\n",
       "      <td>2483.0</td>\n",
       "      <td>1901.0</td>\n",
       "      <td>House</td>\n",
       "      <td>461370</td>\n",
       "    </tr>\n",
       "    <tr>\n",
       "      <th>19</th>\n",
       "      <td>10457.0</td>\n",
       "      <td>899.0</td>\n",
       "      <td>1901.0</td>\n",
       "      <td>House</td>\n",
       "      <td>500000</td>\n",
       "    </tr>\n",
       "    <tr>\n",
       "      <th>20</th>\n",
       "      <td>10458.0</td>\n",
       "      <td>1316.0</td>\n",
       "      <td>1901.0</td>\n",
       "      <td>House</td>\n",
       "      <td>477134</td>\n",
       "    </tr>\n",
       "    <tr>\n",
       "      <th>21</th>\n",
       "      <td>10457.0</td>\n",
       "      <td>1960.0</td>\n",
       "      <td>1901.0</td>\n",
       "      <td>House</td>\n",
       "      <td>360000</td>\n",
       "    </tr>\n",
       "    <tr>\n",
       "      <th>22</th>\n",
       "      <td>10458.0</td>\n",
       "      <td>1380.0</td>\n",
       "      <td>1901.0</td>\n",
       "      <td>House</td>\n",
       "      <td>440000</td>\n",
       "    </tr>\n",
       "    <tr>\n",
       "      <th>23</th>\n",
       "      <td>10458.0</td>\n",
       "      <td>1420.0</td>\n",
       "      <td>1901.0</td>\n",
       "      <td>House</td>\n",
       "      <td>649500</td>\n",
       "    </tr>\n",
       "    <tr>\n",
       "      <th>24</th>\n",
       "      <td>10458.0</td>\n",
       "      <td>2085.0</td>\n",
       "      <td>1901.0</td>\n",
       "      <td>House</td>\n",
       "      <td>370000</td>\n",
       "    </tr>\n",
       "    <tr>\n",
       "      <th>46</th>\n",
       "      <td>10457.0</td>\n",
       "      <td>3567.0</td>\n",
       "      <td>1899.0</td>\n",
       "      <td>Apartment</td>\n",
       "      <td>462615</td>\n",
       "    </tr>\n",
       "    <tr>\n",
       "      <th>47</th>\n",
       "      <td>10456.0</td>\n",
       "      <td>2500.0</td>\n",
       "      <td>1931.0</td>\n",
       "      <td>Apartment</td>\n",
       "      <td>1800000</td>\n",
       "    </tr>\n",
       "    <tr>\n",
       "      <th>48</th>\n",
       "      <td>10458.0</td>\n",
       "      <td>4779.0</td>\n",
       "      <td>1912.0</td>\n",
       "      <td>Apartment</td>\n",
       "      <td>0</td>\n",
       "    </tr>\n",
       "    <tr>\n",
       "      <th>49</th>\n",
       "      <td>10458.0</td>\n",
       "      <td>4787.0</td>\n",
       "      <td>1912.0</td>\n",
       "      <td>Apartment</td>\n",
       "      <td>0</td>\n",
       "    </tr>\n",
       "    <tr>\n",
       "      <th>50</th>\n",
       "      <td>10458.0</td>\n",
       "      <td>4336.0</td>\n",
       "      <td>1909.0</td>\n",
       "      <td>Apartment</td>\n",
       "      <td>1400000</td>\n",
       "    </tr>\n",
       "    <tr>\n",
       "      <th>...</th>\n",
       "      <td>...</td>\n",
       "      <td>...</td>\n",
       "      <td>...</td>\n",
       "      <td>...</td>\n",
       "      <td>...</td>\n",
       "    </tr>\n",
       "    <tr>\n",
       "      <th>81450</th>\n",
       "      <td>10309.0</td>\n",
       "      <td>4836.0</td>\n",
       "      <td>2017.0</td>\n",
       "      <td>House</td>\n",
       "      <td>778961</td>\n",
       "    </tr>\n",
       "    <tr>\n",
       "      <th>81451</th>\n",
       "      <td>10309.0</td>\n",
       "      <td>3878.0</td>\n",
       "      <td>2017.0</td>\n",
       "      <td>House</td>\n",
       "      <td>763688</td>\n",
       "    </tr>\n",
       "    <tr>\n",
       "      <th>81452</th>\n",
       "      <td>10309.0</td>\n",
       "      <td>3878.0</td>\n",
       "      <td>2017.0</td>\n",
       "      <td>House</td>\n",
       "      <td>787107</td>\n",
       "    </tr>\n",
       "    <tr>\n",
       "      <th>81453</th>\n",
       "      <td>10309.0</td>\n",
       "      <td>2898.0</td>\n",
       "      <td>1998.0</td>\n",
       "      <td>House</td>\n",
       "      <td>550000</td>\n",
       "    </tr>\n",
       "    <tr>\n",
       "      <th>81454</th>\n",
       "      <td>10309.0</td>\n",
       "      <td>2810.0</td>\n",
       "      <td>1997.0</td>\n",
       "      <td>House</td>\n",
       "      <td>633000</td>\n",
       "    </tr>\n",
       "    <tr>\n",
       "      <th>81455</th>\n",
       "      <td>10309.0</td>\n",
       "      <td>5511.0</td>\n",
       "      <td>1998.0</td>\n",
       "      <td>House</td>\n",
       "      <td>0</td>\n",
       "    </tr>\n",
       "    <tr>\n",
       "      <th>81456</th>\n",
       "      <td>10309.0</td>\n",
       "      <td>3801.0</td>\n",
       "      <td>1996.0</td>\n",
       "      <td>House</td>\n",
       "      <td>0</td>\n",
       "    </tr>\n",
       "    <tr>\n",
       "      <th>81457</th>\n",
       "      <td>10309.0</td>\n",
       "      <td>2568.0</td>\n",
       "      <td>1996.0</td>\n",
       "      <td>House</td>\n",
       "      <td>650000</td>\n",
       "    </tr>\n",
       "    <tr>\n",
       "      <th>81458</th>\n",
       "      <td>10309.0</td>\n",
       "      <td>6525.0</td>\n",
       "      <td>1996.0</td>\n",
       "      <td>House</td>\n",
       "      <td>662500</td>\n",
       "    </tr>\n",
       "    <tr>\n",
       "      <th>81459</th>\n",
       "      <td>10309.0</td>\n",
       "      <td>2565.0</td>\n",
       "      <td>1996.0</td>\n",
       "      <td>House</td>\n",
       "      <td>0</td>\n",
       "    </tr>\n",
       "    <tr>\n",
       "      <th>81460</th>\n",
       "      <td>10309.0</td>\n",
       "      <td>3183.0</td>\n",
       "      <td>1996.0</td>\n",
       "      <td>House</td>\n",
       "      <td>425000</td>\n",
       "    </tr>\n",
       "    <tr>\n",
       "      <th>81461</th>\n",
       "      <td>10309.0</td>\n",
       "      <td>2680.0</td>\n",
       "      <td>1996.0</td>\n",
       "      <td>House</td>\n",
       "      <td>555000</td>\n",
       "    </tr>\n",
       "    <tr>\n",
       "      <th>81462</th>\n",
       "      <td>10309.0</td>\n",
       "      <td>3215.0</td>\n",
       "      <td>1995.0</td>\n",
       "      <td>House</td>\n",
       "      <td>645000</td>\n",
       "    </tr>\n",
       "    <tr>\n",
       "      <th>81463</th>\n",
       "      <td>10309.0</td>\n",
       "      <td>3147.0</td>\n",
       "      <td>1995.0</td>\n",
       "      <td>House</td>\n",
       "      <td>0</td>\n",
       "    </tr>\n",
       "    <tr>\n",
       "      <th>81464</th>\n",
       "      <td>10309.0</td>\n",
       "      <td>3130.0</td>\n",
       "      <td>1995.0</td>\n",
       "      <td>House</td>\n",
       "      <td>0</td>\n",
       "    </tr>\n",
       "    <tr>\n",
       "      <th>81465</th>\n",
       "      <td>10309.0</td>\n",
       "      <td>3130.0</td>\n",
       "      <td>1995.0</td>\n",
       "      <td>House</td>\n",
       "      <td>608000</td>\n",
       "    </tr>\n",
       "    <tr>\n",
       "      <th>81466</th>\n",
       "      <td>10309.0</td>\n",
       "      <td>2311.0</td>\n",
       "      <td>1995.0</td>\n",
       "      <td>House</td>\n",
       "      <td>620000</td>\n",
       "    </tr>\n",
       "    <tr>\n",
       "      <th>81467</th>\n",
       "      <td>10309.0</td>\n",
       "      <td>3011.0</td>\n",
       "      <td>1995.0</td>\n",
       "      <td>House</td>\n",
       "      <td>0</td>\n",
       "    </tr>\n",
       "    <tr>\n",
       "      <th>81468</th>\n",
       "      <td>10309.0</td>\n",
       "      <td>2379.0</td>\n",
       "      <td>1998.0</td>\n",
       "      <td>House</td>\n",
       "      <td>615000</td>\n",
       "    </tr>\n",
       "    <tr>\n",
       "      <th>81469</th>\n",
       "      <td>10309.0</td>\n",
       "      <td>7200.0</td>\n",
       "      <td>1994.0</td>\n",
       "      <td>House</td>\n",
       "      <td>665000</td>\n",
       "    </tr>\n",
       "    <tr>\n",
       "      <th>81470</th>\n",
       "      <td>10309.0</td>\n",
       "      <td>4125.0</td>\n",
       "      <td>1994.0</td>\n",
       "      <td>House</td>\n",
       "      <td>625000</td>\n",
       "    </tr>\n",
       "    <tr>\n",
       "      <th>81471</th>\n",
       "      <td>10309.0</td>\n",
       "      <td>3380.0</td>\n",
       "      <td>1994.0</td>\n",
       "      <td>House</td>\n",
       "      <td>675000</td>\n",
       "    </tr>\n",
       "    <tr>\n",
       "      <th>81472</th>\n",
       "      <td>10309.0</td>\n",
       "      <td>3990.0</td>\n",
       "      <td>1994.0</td>\n",
       "      <td>House</td>\n",
       "      <td>534072</td>\n",
       "    </tr>\n",
       "    <tr>\n",
       "      <th>81473</th>\n",
       "      <td>10309.0</td>\n",
       "      <td>3990.0</td>\n",
       "      <td>1994.0</td>\n",
       "      <td>House</td>\n",
       "      <td>1000</td>\n",
       "    </tr>\n",
       "    <tr>\n",
       "      <th>81474</th>\n",
       "      <td>10309.0</td>\n",
       "      <td>2560.0</td>\n",
       "      <td>1998.0</td>\n",
       "      <td>House</td>\n",
       "      <td>644000</td>\n",
       "    </tr>\n",
       "    <tr>\n",
       "      <th>81475</th>\n",
       "      <td>10309.0</td>\n",
       "      <td>5927.0</td>\n",
       "      <td>2000.0</td>\n",
       "      <td>House</td>\n",
       "      <td>0</td>\n",
       "    </tr>\n",
       "    <tr>\n",
       "      <th>81476</th>\n",
       "      <td>10309.0</td>\n",
       "      <td>2340.0</td>\n",
       "      <td>2001.0</td>\n",
       "      <td>House</td>\n",
       "      <td>610000</td>\n",
       "    </tr>\n",
       "    <tr>\n",
       "      <th>81477</th>\n",
       "      <td>10309.0</td>\n",
       "      <td>2730.0</td>\n",
       "      <td>2001.0</td>\n",
       "      <td>House</td>\n",
       "      <td>625000</td>\n",
       "    </tr>\n",
       "    <tr>\n",
       "      <th>81478</th>\n",
       "      <td>10309.0</td>\n",
       "      <td>7200.0</td>\n",
       "      <td>2001.0</td>\n",
       "      <td>House</td>\n",
       "      <td>0</td>\n",
       "    </tr>\n",
       "    <tr>\n",
       "      <th>81479</th>\n",
       "      <td>10309.0</td>\n",
       "      <td>8846.0</td>\n",
       "      <td>2001.0</td>\n",
       "      <td>House</td>\n",
       "      <td>637500</td>\n",
       "    </tr>\n",
       "  </tbody>\n",
       "</table>\n",
       "<p>67041 rows × 5 columns</p>\n",
       "</div>"
      ],
      "text/plain": [
       "       ZIP_CODE  LAND_SQUARE_FEET  YEAR_BUILT   prop_cat  SALE_PRICE\n",
       "0       10457.0            1622.0      1899.0  Apartment      458000\n",
       "1       10457.0            1646.0      1899.0  Apartment      275000\n",
       "2       10457.0            1694.0      1899.0  Apartment      388500\n",
       "3       10458.0            1095.0      1910.0      House      110000\n",
       "4       10458.0            1095.0      1910.0      House      165000\n",
       "5       10457.0            1986.0      1899.0  Apartment      420000\n",
       "6       10457.0            2000.0      1993.0      House           0\n",
       "7       10457.0            2000.0      1993.0      House           0\n",
       "8       10457.0            2000.0      1993.0      House      505000\n",
       "9       10457.0            2000.0      1993.0      House      630000\n",
       "10      10456.0            1900.0      1994.0      House      535000\n",
       "11      10457.0            2361.0      1995.0      House           0\n",
       "12      10457.0            2000.0      1899.0      House      365000\n",
       "13      10457.0            1556.0      1899.0      House      310000\n",
       "14      10457.0            2250.0      1995.0      House      645000\n",
       "15      10457.0            1826.0      1899.0      House           1\n",
       "16      10458.0            2033.0      1997.0      House      640000\n",
       "17      10457.0            2785.0      1998.0      House      610000\n",
       "18      10457.0            2483.0      1901.0      House      461370\n",
       "19      10457.0             899.0      1901.0      House      500000\n",
       "20      10458.0            1316.0      1901.0      House      477134\n",
       "21      10457.0            1960.0      1901.0      House      360000\n",
       "22      10458.0            1380.0      1901.0      House      440000\n",
       "23      10458.0            1420.0      1901.0      House      649500\n",
       "24      10458.0            2085.0      1901.0      House      370000\n",
       "46      10457.0            3567.0      1899.0  Apartment      462615\n",
       "47      10456.0            2500.0      1931.0  Apartment     1800000\n",
       "48      10458.0            4779.0      1912.0  Apartment           0\n",
       "49      10458.0            4787.0      1912.0  Apartment           0\n",
       "50      10458.0            4336.0      1909.0  Apartment     1400000\n",
       "...         ...               ...         ...        ...         ...\n",
       "81450   10309.0            4836.0      2017.0      House      778961\n",
       "81451   10309.0            3878.0      2017.0      House      763688\n",
       "81452   10309.0            3878.0      2017.0      House      787107\n",
       "81453   10309.0            2898.0      1998.0      House      550000\n",
       "81454   10309.0            2810.0      1997.0      House      633000\n",
       "81455   10309.0            5511.0      1998.0      House           0\n",
       "81456   10309.0            3801.0      1996.0      House           0\n",
       "81457   10309.0            2568.0      1996.0      House      650000\n",
       "81458   10309.0            6525.0      1996.0      House      662500\n",
       "81459   10309.0            2565.0      1996.0      House           0\n",
       "81460   10309.0            3183.0      1996.0      House      425000\n",
       "81461   10309.0            2680.0      1996.0      House      555000\n",
       "81462   10309.0            3215.0      1995.0      House      645000\n",
       "81463   10309.0            3147.0      1995.0      House           0\n",
       "81464   10309.0            3130.0      1995.0      House           0\n",
       "81465   10309.0            3130.0      1995.0      House      608000\n",
       "81466   10309.0            2311.0      1995.0      House      620000\n",
       "81467   10309.0            3011.0      1995.0      House           0\n",
       "81468   10309.0            2379.0      1998.0      House      615000\n",
       "81469   10309.0            7200.0      1994.0      House      665000\n",
       "81470   10309.0            4125.0      1994.0      House      625000\n",
       "81471   10309.0            3380.0      1994.0      House      675000\n",
       "81472   10309.0            3990.0      1994.0      House      534072\n",
       "81473   10309.0            3990.0      1994.0      House        1000\n",
       "81474   10309.0            2560.0      1998.0      House      644000\n",
       "81475   10309.0            5927.0      2000.0      House           0\n",
       "81476   10309.0            2340.0      2001.0      House      610000\n",
       "81477   10309.0            2730.0      2001.0      House      625000\n",
       "81478   10309.0            7200.0      2001.0      House           0\n",
       "81479   10309.0            8846.0      2001.0      House      637500\n",
       "\n",
       "[67041 rows x 5 columns]"
      ]
     },
     "execution_count": 63,
     "metadata": {},
     "output_type": "execute_result"
    }
   ],
   "source": [
    "df"
   ]
  },
  {
   "cell_type": "code",
   "execution_count": 94,
   "metadata": {
    "scrolled": true
   },
   "outputs": [
    {
     "name": "stderr",
     "output_type": "stream",
     "text": [
      "/Users/rainyleon/anaconda3/lib/python3.6/site-packages/pandas/core/frame.py:3940: SettingWithCopyWarning: \n",
      "A value is trying to be set on a copy of a slice from a DataFrame\n",
      "\n",
      "See the caveats in the documentation: http://pandas.pydata.org/pandas-docs/stable/indexing.html#indexing-view-versus-copy\n",
      "  errors=errors)\n"
     ]
    }
   ],
   "source": [
    "df.drop(df[df['SALE_PRICE']<100000].index, inplace=True)"
   ]
  },
  {
   "cell_type": "code",
   "execution_count": 104,
   "metadata": {},
   "outputs": [
    {
     "name": "stderr",
     "output_type": "stream",
     "text": [
      "/Users/rainyleon/anaconda3/lib/python3.6/site-packages/pandas/core/frame.py:3940: SettingWithCopyWarning: \n",
      "A value is trying to be set on a copy of a slice from a DataFrame\n",
      "\n",
      "See the caveats in the documentation: http://pandas.pydata.org/pandas-docs/stable/indexing.html#indexing-view-versus-copy\n",
      "  errors=errors)\n"
     ]
    }
   ],
   "source": [
    "df.drop(df[df['SALE_PRICE']>3500000].index, inplace=True)"
   ]
  },
  {
   "cell_type": "code",
   "execution_count": 105,
   "metadata": {},
   "outputs": [
    {
     "data": {
      "text/plain": [
       "(20618, 5)"
      ]
     },
     "execution_count": 105,
     "metadata": {},
     "output_type": "execute_result"
    }
   ],
   "source": [
    "df.shape"
   ]
  },
  {
   "cell_type": "code",
   "execution_count": 106,
   "metadata": {},
   "outputs": [],
   "source": [
    "df = df.dropna()"
   ]
  },
  {
   "cell_type": "code",
   "execution_count": 107,
   "metadata": {},
   "outputs": [],
   "source": [
    "df.drop(df[df['LAND_SQUARE_FEET'] == 0.0].index, inplace=True)"
   ]
  },
  {
   "cell_type": "code",
   "execution_count": 108,
   "metadata": {
    "scrolled": true
   },
   "outputs": [
    {
     "data": {
      "text/plain": [
       "{10002.0,\n",
       " 10003.0,\n",
       " 10009.0,\n",
       " 10011.0,\n",
       " 10012.0,\n",
       " 10013.0,\n",
       " 10014.0,\n",
       " 10016.0,\n",
       " 10021.0,\n",
       " 10022.0,\n",
       " 10023.0,\n",
       " 10024.0,\n",
       " 10025.0,\n",
       " 10026.0,\n",
       " 10027.0,\n",
       " 10028.0,\n",
       " 10029.0,\n",
       " 10030.0,\n",
       " 10031.0,\n",
       " 10032.0,\n",
       " 10033.0,\n",
       " 10034.0,\n",
       " 10035.0,\n",
       " 10036.0,\n",
       " 10037.0,\n",
       " 10039.0,\n",
       " 10040.0,\n",
       " 10065.0,\n",
       " 10128.0,\n",
       " 10301.0,\n",
       " 10302.0,\n",
       " 10303.0,\n",
       " 10304.0,\n",
       " 10305.0,\n",
       " 10306.0,\n",
       " 10307.0,\n",
       " 10308.0,\n",
       " 10309.0,\n",
       " 10310.0,\n",
       " 10312.0,\n",
       " 10314.0,\n",
       " 10451.0,\n",
       " 10452.0,\n",
       " 10453.0,\n",
       " 10454.0,\n",
       " 10455.0,\n",
       " 10456.0,\n",
       " 10457.0,\n",
       " 10458.0,\n",
       " 10459.0,\n",
       " 10460.0,\n",
       " 10461.0,\n",
       " 10462.0,\n",
       " 10463.0,\n",
       " 10464.0,\n",
       " 10465.0,\n",
       " 10466.0,\n",
       " 10467.0,\n",
       " 10468.0,\n",
       " 10469.0,\n",
       " 10470.0,\n",
       " 10471.0,\n",
       " 10472.0,\n",
       " 10473.0,\n",
       " 10474.0,\n",
       " 10475.0,\n",
       " 11001.0,\n",
       " 11004.0,\n",
       " 11040.0,\n",
       " 11101.0,\n",
       " 11102.0,\n",
       " 11103.0,\n",
       " 11104.0,\n",
       " 11105.0,\n",
       " 11106.0,\n",
       " 11201.0,\n",
       " 11203.0,\n",
       " 11204.0,\n",
       " 11205.0,\n",
       " 11206.0,\n",
       " 11207.0,\n",
       " 11208.0,\n",
       " 11209.0,\n",
       " 11210.0,\n",
       " 11211.0,\n",
       " 11212.0,\n",
       " 11213.0,\n",
       " 11214.0,\n",
       " 11215.0,\n",
       " 11216.0,\n",
       " 11217.0,\n",
       " 11218.0,\n",
       " 11219.0,\n",
       " 11220.0,\n",
       " 11221.0,\n",
       " 11222.0,\n",
       " 11223.0,\n",
       " 11224.0,\n",
       " 11225.0,\n",
       " 11226.0,\n",
       " 11228.0,\n",
       " 11229.0,\n",
       " 11230.0,\n",
       " 11231.0,\n",
       " 11232.0,\n",
       " 11233.0,\n",
       " 11234.0,\n",
       " 11235.0,\n",
       " 11236.0,\n",
       " 11237.0,\n",
       " 11238.0,\n",
       " 11239.0,\n",
       " 11249.0,\n",
       " 11354.0,\n",
       " 11355.0,\n",
       " 11356.0,\n",
       " 11357.0,\n",
       " 11358.0,\n",
       " 11360.0,\n",
       " 11361.0,\n",
       " 11362.0,\n",
       " 11363.0,\n",
       " 11364.0,\n",
       " 11365.0,\n",
       " 11366.0,\n",
       " 11367.0,\n",
       " 11368.0,\n",
       " 11369.0,\n",
       " 11370.0,\n",
       " 11372.0,\n",
       " 11373.0,\n",
       " 11374.0,\n",
       " 11375.0,\n",
       " 11377.0,\n",
       " 11378.0,\n",
       " 11379.0,\n",
       " 11385.0,\n",
       " 11411.0,\n",
       " 11412.0,\n",
       " 11413.0,\n",
       " 11414.0,\n",
       " 11415.0,\n",
       " 11416.0,\n",
       " 11417.0,\n",
       " 11418.0,\n",
       " 11419.0,\n",
       " 11420.0,\n",
       " 11421.0,\n",
       " 11422.0,\n",
       " 11423.0,\n",
       " 11426.0,\n",
       " 11427.0,\n",
       " 11428.0,\n",
       " 11429.0,\n",
       " 11432.0,\n",
       " 11433.0,\n",
       " 11434.0,\n",
       " 11435.0,\n",
       " 11436.0,\n",
       " 11691.0,\n",
       " 11692.0,\n",
       " 11693.0,\n",
       " 11694.0}"
      ]
     },
     "execution_count": 108,
     "metadata": {},
     "output_type": "execute_result"
    }
   ],
   "source": [
    "set(df.ZIP_CODE)"
   ]
  },
  {
   "cell_type": "code",
   "execution_count": 109,
   "metadata": {
    "scrolled": true
   },
   "outputs": [
    {
     "data": {
      "text/html": [
       "<div>\n",
       "<style scoped>\n",
       "    .dataframe tbody tr th:only-of-type {\n",
       "        vertical-align: middle;\n",
       "    }\n",
       "\n",
       "    .dataframe tbody tr th {\n",
       "        vertical-align: top;\n",
       "    }\n",
       "\n",
       "    .dataframe thead th {\n",
       "        text-align: right;\n",
       "    }\n",
       "</style>\n",
       "<table border=\"1\" class=\"dataframe\">\n",
       "  <thead>\n",
       "    <tr style=\"text-align: right;\">\n",
       "      <th></th>\n",
       "      <th>ZIP_CODE</th>\n",
       "      <th>LAND_SQUARE_FEET</th>\n",
       "      <th>YEAR_BUILT</th>\n",
       "      <th>prop_cat</th>\n",
       "      <th>SALE_PRICE</th>\n",
       "    </tr>\n",
       "  </thead>\n",
       "  <tbody>\n",
       "    <tr>\n",
       "      <th>0</th>\n",
       "      <td>10457.0</td>\n",
       "      <td>1622.0</td>\n",
       "      <td>1899.0</td>\n",
       "      <td>0</td>\n",
       "      <td>458000</td>\n",
       "    </tr>\n",
       "    <tr>\n",
       "      <th>1</th>\n",
       "      <td>10457.0</td>\n",
       "      <td>1646.0</td>\n",
       "      <td>1899.0</td>\n",
       "      <td>0</td>\n",
       "      <td>275000</td>\n",
       "    </tr>\n",
       "    <tr>\n",
       "      <th>2</th>\n",
       "      <td>10457.0</td>\n",
       "      <td>1694.0</td>\n",
       "      <td>1899.0</td>\n",
       "      <td>0</td>\n",
       "      <td>388500</td>\n",
       "    </tr>\n",
       "    <tr>\n",
       "      <th>3</th>\n",
       "      <td>10458.0</td>\n",
       "      <td>1095.0</td>\n",
       "      <td>1910.0</td>\n",
       "      <td>1</td>\n",
       "      <td>110000</td>\n",
       "    </tr>\n",
       "    <tr>\n",
       "      <th>4</th>\n",
       "      <td>10458.0</td>\n",
       "      <td>1095.0</td>\n",
       "      <td>1910.0</td>\n",
       "      <td>1</td>\n",
       "      <td>165000</td>\n",
       "    </tr>\n",
       "  </tbody>\n",
       "</table>\n",
       "</div>"
      ],
      "text/plain": [
       "   ZIP_CODE  LAND_SQUARE_FEET  YEAR_BUILT  prop_cat  SALE_PRICE\n",
       "0   10457.0            1622.0      1899.0         0      458000\n",
       "1   10457.0            1646.0      1899.0         0      275000\n",
       "2   10457.0            1694.0      1899.0         0      388500\n",
       "3   10458.0            1095.0      1910.0         1      110000\n",
       "4   10458.0            1095.0      1910.0         1      165000"
      ]
     },
     "execution_count": 109,
     "metadata": {},
     "output_type": "execute_result"
    }
   ],
   "source": [
    "df[:5]"
   ]
  },
  {
   "cell_type": "code",
   "execution_count": 110,
   "metadata": {},
   "outputs": [],
   "source": [
    "from sklearn.ensemble import RandomForestRegressor\n",
    "from sklearn.datasets import make_regression\n",
    "from sklearn import preprocessing\n",
    "from sklearn.preprocessing import OneHotEncoder\n",
    "from sklearn import metrics\n",
    "import numpy as np"
   ]
  },
  {
   "cell_type": "code",
   "execution_count": 111,
   "metadata": {
    "scrolled": true
   },
   "outputs": [],
   "source": [
    "le1 = preprocessing.LabelEncoder()\n",
    "df.prop_cat = le1.fit_transform(df.prop_cat)"
   ]
  },
  {
   "cell_type": "code",
   "execution_count": 112,
   "metadata": {},
   "outputs": [
    {
     "data": {
      "text/plain": [
       "array([0, 1])"
      ]
     },
     "execution_count": 112,
     "metadata": {},
     "output_type": "execute_result"
    }
   ],
   "source": [
    "le1.classes_"
   ]
  },
  {
   "cell_type": "code",
   "execution_count": 113,
   "metadata": {},
   "outputs": [],
   "source": [
    "train = df.shape[0] * 0.70"
   ]
  },
  {
   "cell_type": "code",
   "execution_count": 114,
   "metadata": {},
   "outputs": [],
   "source": [
    "data_Y = df['SALE_PRICE']\n",
    "data_X = df.drop('SALE_PRICE', axis=1)"
   ]
  },
  {
   "cell_type": "code",
   "execution_count": 115,
   "metadata": {},
   "outputs": [],
   "source": [
    "train_y = data_Y[:int(train)]\n",
    "train_X = data_X[:int(train)]\n",
    "test_X = data_X[int(train):]\n",
    "test_y = data_Y[int(train):]"
   ]
  },
  {
   "cell_type": "code",
   "execution_count": 116,
   "metadata": {},
   "outputs": [
    {
     "data": {
      "text/plain": [
       "(array([  74.,  141.,  337., 1094., 2946., 4442., 3159., 1339.,  565.,\n",
       "         335.]),\n",
       " array([11.51292546, 11.86846027, 12.22399508, 12.57952988, 12.93506469,\n",
       "        13.2905995 , 13.6461343 , 14.00166911, 14.35720391, 14.71273872,\n",
       "        15.06827353]),\n",
       " <a list of 10 Patch objects>)"
      ]
     },
     "execution_count": 116,
     "metadata": {},
     "output_type": "execute_result"
    },
    {
     "data": {
      "image/png": "[encoded data removed]",
      "text/plain": [
       "<Figure size 432x288 with 1 Axes>"
      ]
     },
     "metadata": {},
     "output_type": "display_data"
    }
   ],
   "source": [
    "import matplotlib.pyplot as plt\n",
    "plt.hist(np.log(train_y))"
   ]
  },
  {
   "cell_type": "code",
   "execution_count": 117,
   "metadata": {
    "scrolled": true
   },
   "outputs": [
    {
     "data": {
      "text/plain": [
       "RandomForestRegressor(bootstrap=True, criterion='mse', max_depth=100,\n",
       "           max_features='auto', max_leaf_nodes=None,\n",
       "           min_impurity_decrease=0.0, min_impurity_split=None,\n",
       "           min_samples_leaf=1, min_samples_split=2,\n",
       "           min_weight_fraction_leaf=0.0, n_estimators=100, n_jobs=None,\n",
       "           oob_score=False, random_state=0, verbose=0, warm_start=False)"
      ]
     },
     "execution_count": 117,
     "metadata": {},
     "output_type": "execute_result"
    }
   ],
   "source": [
    "regr = RandomForestRegressor(n_estimators = 100, max_depth=100, random_state=0)\n",
    "regr.fit(train_X, np.log(train_y))"
   ]
  },
  {
   "cell_type": "code",
   "execution_count": null,
   "metadata": {},
   "outputs": [],
   "source": []
  },
  {
   "cell_type": "code",
   "execution_count": 118,
   "metadata": {},
   "outputs": [],
   "source": [
    "y_pred = regr.predict(test_X)"
   ]
  },
  {
   "cell_type": "code",
   "execution_count": 120,
   "metadata": {},
   "outputs": [
    {
     "data": {
      "text/plain": [
       "3275000"
      ]
     },
     "execution_count": 120,
     "metadata": {},
     "output_type": "execute_result"
    }
   ],
   "source": [
    "np.max(test_y)"
   ]
  },
  {
   "cell_type": "code",
   "execution_count": 121,
   "metadata": {},
   "outputs": [
    {
     "data": {
      "text/plain": [
       "100000"
      ]
     },
     "execution_count": 121,
     "metadata": {},
     "output_type": "execute_result"
    }
   ],
   "source": [
    "np.min(test_y)"
   ]
  },
  {
   "cell_type": "code",
   "execution_count": 122,
   "metadata": {},
   "outputs": [
    {
     "name": "stdout",
     "output_type": "stream",
     "text": [
      "Root Mean Squared Error: 501567.7806639821\n"
     ]
    }
   ],
   "source": [
    "print('Root Mean Squared Error:', np.sqrt(metrics.mean_squared_error(test_y, np.exp(y_pred))))"
   ]
  },
  {
   "cell_type": "code",
   "execution_count": 170,
   "metadata": {},
   "outputs": [],
   "source": [
    "df.to_csv(\"rental_processed.csv\", index=False)"
   ]
  },
  {
   "cell_type": "code",
   "execution_count": 174,
   "metadata": {},
   "outputs": [
    {
     "data": {
      "text/plain": [
       "['random_forest.pkl']"
      ]
     },
     "execution_count": 174,
     "metadata": {},
     "output_type": "execute_result"
    }
   ],
   "source": [
    "from sklearn.externals import joblib\n",
    "joblib.dump(regr, \"random_forest.pkl\")"
   ]
  },
  {
   "cell_type": "code",
   "execution_count": 183,
   "metadata": {},
   "outputs": [],
   "source": [
    "test_user = np.array([[10044, 1316, 2001, 1]])"
   ]
  },
  {
   "cell_type": "code",
   "execution_count": 189,
   "metadata": {},
   "outputs": [
    {
     "data": {
      "text/plain": [
       "array([1878500.])"
      ]
     },
     "execution_count": 189,
     "metadata": {},
     "output_type": "execute_result"
    }
   ],
   "source": [
    "regr.predict(test_user)"
   ]
  },
  {
   "cell_type": "code",
   "execution_count": 187,
   "metadata": {},
   "outputs": [],
   "source": [
    "rf = joblib.load('random_forest.pkl')"
   ]
  },
  {
   "cell_type": "code",
   "execution_count": 188,
   "metadata": {},
   "outputs": [
    {
     "data": {
      "text/plain": [
       "array([1878500.])"
      ]
     },
     "execution_count": 188,
     "metadata": {},
     "output_type": "execute_result"
    }
   ],
   "source": [
    "rf.predict(test_user)"
   ]
  },
  {
   "cell_type": "code",
   "execution_count": null,
   "metadata": {},
   "outputs": [],
   "source": []
  }
 ],
 "metadata": {
  "kernelspec": {
   "display_name": "Python 3",
   "language": "python",
   "name": "python3"
  },
  "language_info": {
   "codemirror_mode": {
    "name": "ipython",
    "version": 3
   },
   "file_extension": ".py",
   "mimetype": "text/x-python",
   "name": "python",
   "nbconvert_exporter": "python",
   "pygments_lexer": "ipython3",
   "version": "3.6.8"
  }
 },
 "nbformat": 4,
 "nbformat_minor": 2
}

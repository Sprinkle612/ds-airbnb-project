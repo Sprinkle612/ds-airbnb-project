{
 "cells": [
  {
   "cell_type": "code",
   "execution_count": 3,
   "metadata": {
    "colab": {
     "base_uri": "https://localhost:8080/",
     "height": 71
    },
    "colab_type": "code",
    "executionInfo": {
     "elapsed": 2584,
     "status": "ok",
     "timestamp": 1588451955103,
     "user": {
      "displayName": "Suli Li",
      "photoUrl": "",
      "userId": "18023684709239765360"
     },
     "user_tz": 240
    },
    "id": "fWhSxo7DtmgT",
    "outputId": "49793987-d860-481b-c5d4-46246ef0987e"
   },
   "outputs": [],
   "source": [
    "import pandas as pd\n",
    "import numpy as np\n",
    "import matplotlib\n",
    "import seaborn as sb\n",
    "import matplotlib.pyplot as plt\n",
    "import matplotlib.cm as cmx\n",
    "import matplotlib.colors as colors\n",
    "import math\n",
    "import pylab\n",
    "import scipy.stats as stats\n",
    "import seaborn as sns\n",
    "from sklearn import preprocessing\n",
    "from sklearn.preprocessing import OneHotEncoder\n",
    "from sklearn.linear_model import LinearRegression, RidgeCV, LassoCV\n",
    "from sklearn import metrics\n",
    "%matplotlib inline"
   ]
  },
  {
   "cell_type": "code",
   "execution_count": 4,
   "metadata": {
    "colab": {},
    "colab_type": "code",
    "id": "NzpXn38PuPGN"
   },
   "outputs": [],
   "source": [
    "listing = pd.read_csv(\"./data/listing_processed.csv\", header=0)"
   ]
  },
  {
   "cell_type": "code",
   "execution_count": 5,
   "metadata": {},
   "outputs": [
    {
     "data": {
      "text/plain": [
       "Index(['id', 'host_id', 'host_since', 'neighbourhood_cleansed', 'zipcode',\n",
       "       'property_type', 'room_type', 'accommodates', 'bathrooms', 'bedrooms',\n",
       "       'beds', 'price', 'cleaning_fee', 'guests_included', 'extra_people',\n",
       "       'minimum_nights', 'availability_30', 'number_of_reviews',\n",
       "       'cancellation_policy', 'review_cat', 'host_months', 'property_cat'],\n",
       "      dtype='object')"
      ]
     },
     "execution_count": 5,
     "metadata": {},
     "output_type": "execute_result"
    }
   ],
   "source": [
    "listing.columns"
   ]
  },
  {
   "cell_type": "code",
   "execution_count": 6,
   "metadata": {
    "colab": {
     "base_uri": "https://localhost:8080/",
     "height": 32
    },
    "colab_type": "code",
    "executionInfo": {
     "elapsed": 170,
     "status": "ok",
     "timestamp": 1586115559893,
     "user": {
      "displayName": "Rain Liang",
      "photoUrl": "",
      "userId": "18346316114386872451"
     },
     "user_tz": 240
    },
    "id": "jW8czZ1o2avN",
    "outputId": "27faffb1-c0bc-4002-fcd9-4798d1e9e2b4",
    "scrolled": true
   },
   "outputs": [],
   "source": [
    "# print(\"price over 2000: \", sum(listing.price > 2000))"
   ]
  },
  {
   "cell_type": "code",
   "execution_count": 7,
   "metadata": {
    "colab": {
     "base_uri": "https://localhost:8080/",
     "height": 596
    },
    "colab_type": "code",
    "executionInfo": {
     "elapsed": 176,
     "status": "ok",
     "timestamp": 1586114694284,
     "user": {
      "displayName": "Rain Liang",
      "photoUrl": "",
      "userId": "18346316114386872451"
     },
     "user_tz": 240
    },
    "id": "1p7qzVBhx_jd",
    "outputId": "4ec6223b-e8dc-46b4-af06-8bbc463b4b8f",
    "scrolled": false
   },
   "outputs": [],
   "source": [
    "# STEP 1\n",
    "# standardize cleaning_fee, number_of_reviews, host_months, extra_people\n",
    "listing_part1 = listing[['cleaning_fee','number_of_reviews','host_months','extra_people','minimum_nights','availability_30']]\n",
    "scalar = preprocessing.StandardScaler().fit(listing_part1)\n",
    "listing_part1 = scalar.transform(listing_part1)\n"
   ]
  },
  {
   "cell_type": "code",
   "execution_count": 8,
   "metadata": {},
   "outputs": [],
   "source": [
    "# from sklearn.externals import joblib\n",
    "# joblib.dump(scalar, \"standardize.pkl\")\n",
    "# joblib.load('standardize.pkl').transform(listing_part1)"
   ]
  },
  {
   "cell_type": "code",
   "execution_count": 9,
   "metadata": {},
   "outputs": [
    {
     "data": {
      "text/plain": [
       "array([[ 0.60565095,  0.46730886,  2.78059907, -0.58493052, -0.01958909,\n",
       "        -0.57617341],\n",
       "       [-0.85422717,  5.87957693,  2.68302077, -0.58493052, -0.29982302,\n",
       "        -0.41130751],\n",
       "       [ 1.06666509,  1.08001845,  2.6205268 ,  3.54541962, -0.20641171,\n",
       "        -0.90590521],\n",
       "       ...,\n",
       "       [-0.85422717, -0.51302649,  0.61962346, -0.58493052, -0.20641171,\n",
       "         1.56708329],\n",
       "       [-0.85422717, -0.51302649, -1.19599075, -0.58493052, -0.29982302,\n",
       "         0.99005264],\n",
       "       [ 5.29262805, -0.51302649, -1.50297866, -0.58493052, -0.01958909,\n",
       "         0.99005264]])"
      ]
     },
     "execution_count": 9,
     "metadata": {},
     "output_type": "execute_result"
    }
   ],
   "source": [
    "listing_part1"
   ]
  },
  {
   "cell_type": "code",
   "execution_count": 10,
   "metadata": {},
   "outputs": [],
   "source": [
    "# replace these 6 columns with new scaled ones\n",
    "\n",
    "del listing['cleaning_fee']\n",
    "del listing['number_of_reviews']\n",
    "del listing['host_months']\n",
    "del listing['extra_people']\n",
    "del listing['minimum_nights']\n",
    "del listing['availability_30']"
   ]
  },
  {
   "cell_type": "code",
   "execution_count": 12,
   "metadata": {},
   "outputs": [
    {
     "data": {
      "text/plain": [
       "array(['Entire home/apt', 'Private room', 'Shared room', 'Hotel room'],\n",
       "      dtype=object)"
      ]
     },
     "execution_count": 12,
     "metadata": {},
     "output_type": "execute_result"
    }
   ],
   "source": [
    "listing.room_type.unique()"
   ]
  },
  {
   "cell_type": "code",
   "execution_count": 203,
   "metadata": {
    "colab": {},
    "colab_type": "code",
    "id": "G4NJWw7IvgAm"
   },
   "outputs": [],
   "source": [
    "# STEP 2: \n",
    "# transfer categorical variables\n",
    "\n",
    "le1 = preprocessing.LabelEncoder()\n",
    "\n",
    "temp = pd.DataFrame(listing['neighbourhood_cleansed'].values,\n",
    "                   columns=['neighbourhood_cleansed'])\n",
    "\n",
    "temp['temp'] = le1.fit_transform(listing.neighbourhood_cleansed)\n",
    "temp.drop_duplicates(inplace=True)\n",
    "temp\n",
    "temp.to_csv(\"./saved-models/neighbourhood-le.csv\", index=False)\n",
    "\n"
   ]
  },
  {
   "cell_type": "code",
   "execution_count": 193,
   "metadata": {},
   "outputs": [],
   "source": [
    "le2 = preprocessing.LabelEncoder()\n",
    "\n",
    "temp = pd.DataFrame(listing['property_cat'].values,\n",
    "                   columns=['property_cat'])\n",
    "\n",
    "temp['temp'] = le2.fit_transform(listing.property_cat)\n",
    "temp.drop_duplicates(inplace=True)\n",
    "temp.to_csv(\"./saved-models/property_cat-le.csv\", index=False)"
   ]
  },
  {
   "cell_type": "code",
   "execution_count": 16,
   "metadata": {},
   "outputs": [],
   "source": [
    "le3 = preprocessing.LabelEncoder()\n",
    "\n",
    "temp = pd.DataFrame(listing['room_type'].values,\n",
    "                   columns=['room_type'])\n",
    "\n",
    "temp['temp'] = le3.fit_transform(listing.room_type)\n",
    "temp.drop_duplicates(inplace=True)\n",
    "temp.to_csv(\"./saved-models/room_type-le.csv\", index=False)"
   ]
  },
  {
   "cell_type": "code",
   "execution_count": 17,
   "metadata": {},
   "outputs": [],
   "source": [
    "le4 = preprocessing.LabelEncoder()\n",
    "\n",
    "temp = pd.DataFrame(listing['cancellation_policy'].values,\n",
    "                   columns=['cancellation_policy'])\n",
    "\n",
    "temp['temp'] = le4.fit_transform(listing.cancellation_policy)\n",
    "temp.drop_duplicates(inplace=True)\n",
    "temp.to_csv(\"./saved-models/cancellation_policy-le.csv\", index=False)"
   ]
  },
  {
   "cell_type": "code",
   "execution_count": 18,
   "metadata": {},
   "outputs": [],
   "source": [
    "le5 = preprocessing.LabelEncoder()\n",
    "\n",
    "temp = pd.DataFrame(listing['review_cat'].values,\n",
    "                   columns=['review_cat'])\n",
    "\n",
    "temp['temp'] = le5.fit_transform(listing.review_cat)\n",
    "temp.drop_duplicates(inplace=True)\n",
    "temp.to_csv(\"./saved-models/review_cat-le.csv\", index=False)"
   ]
  },
  {
   "cell_type": "code",
   "execution_count": null,
   "metadata": {},
   "outputs": [],
   "source": []
  },
  {
   "cell_type": "code",
   "execution_count": 131,
   "metadata": {},
   "outputs": [
    {
     "data": {
      "text/plain": [
       "['neighbourhood.pkl']"
      ]
     },
     "execution_count": 131,
     "metadata": {},
     "output_type": "execute_result"
    }
   ],
   "source": [
    "from sklearn.externals import joblib\n",
    "\n",
    "joblib.dump(le1, \"neighbourhood.pkl\")\n",
    "\n"
   ]
  },
  {
   "cell_type": "code",
   "execution_count": 83,
   "metadata": {
    "scrolled": true
   },
   "outputs": [],
   "source": [
    "# joblib.dump(le1, \"neighbourhood.pkl\")\n",
    "# joblib.dump(le2, \"property_cat.pkl\")\n",
    "# joblib.dump(le3, \"room_type.pkl\")\n",
    "# joblib.dump(le4, \"cancellation_policy.pkl\")\n",
    "# joblib.dump(le5, \"review_cat.pkl\")"
   ]
  },
  {
   "cell_type": "code",
   "execution_count": 89,
   "metadata": {},
   "outputs": [
    {
     "data": {
      "text/html": [
       "<div>\n",
       "<style scoped>\n",
       "    .dataframe tbody tr th:only-of-type {\n",
       "        vertical-align: middle;\n",
       "    }\n",
       "\n",
       "    .dataframe tbody tr th {\n",
       "        vertical-align: top;\n",
       "    }\n",
       "\n",
       "    .dataframe thead th {\n",
       "        text-align: right;\n",
       "    }\n",
       "</style>\n",
       "<table border=\"1\" class=\"dataframe\">\n",
       "  <thead>\n",
       "    <tr style=\"text-align: right;\">\n",
       "      <th></th>\n",
       "      <th>id</th>\n",
       "      <th>host_id</th>\n",
       "      <th>host_since</th>\n",
       "      <th>neighbourhood_cleansed</th>\n",
       "      <th>zipcode</th>\n",
       "      <th>property_type</th>\n",
       "      <th>room_type</th>\n",
       "      <th>accommodates</th>\n",
       "      <th>bathrooms</th>\n",
       "      <th>bedrooms</th>\n",
       "      <th>beds</th>\n",
       "      <th>price</th>\n",
       "      <th>guests_included</th>\n",
       "      <th>cancellation_policy</th>\n",
       "      <th>review_cat</th>\n",
       "      <th>property_cat</th>\n",
       "    </tr>\n",
       "  </thead>\n",
       "  <tbody>\n",
       "    <tr>\n",
       "      <th>0</th>\n",
       "      <td>2595</td>\n",
       "      <td>2845</td>\n",
       "      <td>9/9/08</td>\n",
       "      <td>129</td>\n",
       "      <td>10018</td>\n",
       "      <td>Apartment</td>\n",
       "      <td>0</td>\n",
       "      <td>2</td>\n",
       "      <td>1.0</td>\n",
       "      <td>0</td>\n",
       "      <td>1</td>\n",
       "      <td>225</td>\n",
       "      <td>1</td>\n",
       "      <td>3</td>\n",
       "      <td>2</td>\n",
       "      <td>0</td>\n",
       "    </tr>\n",
       "    <tr>\n",
       "      <th>1</th>\n",
       "      <td>3831</td>\n",
       "      <td>4869</td>\n",
       "      <td>12/7/08</td>\n",
       "      <td>40</td>\n",
       "      <td>11238</td>\n",
       "      <td>Guest suite</td>\n",
       "      <td>0</td>\n",
       "      <td>3</td>\n",
       "      <td>1.0</td>\n",
       "      <td>1</td>\n",
       "      <td>4</td>\n",
       "      <td>89</td>\n",
       "      <td>1</td>\n",
       "      <td>1</td>\n",
       "      <td>0</td>\n",
       "      <td>2</td>\n",
       "    </tr>\n",
       "    <tr>\n",
       "      <th>2</th>\n",
       "      <td>5099</td>\n",
       "      <td>7322</td>\n",
       "      <td>2/2/09</td>\n",
       "      <td>139</td>\n",
       "      <td>10016</td>\n",
       "      <td>Apartment</td>\n",
       "      <td>0</td>\n",
       "      <td>2</td>\n",
       "      <td>1.0</td>\n",
       "      <td>1</td>\n",
       "      <td>1</td>\n",
       "      <td>200</td>\n",
       "      <td>2</td>\n",
       "      <td>1</td>\n",
       "      <td>0</td>\n",
       "      <td>0</td>\n",
       "    </tr>\n",
       "    <tr>\n",
       "      <th>3</th>\n",
       "      <td>5178</td>\n",
       "      <td>8967</td>\n",
       "      <td>3/3/09</td>\n",
       "      <td>97</td>\n",
       "      <td>10019</td>\n",
       "      <td>Apartment</td>\n",
       "      <td>2</td>\n",
       "      <td>2</td>\n",
       "      <td>1.0</td>\n",
       "      <td>1</td>\n",
       "      <td>1</td>\n",
       "      <td>79</td>\n",
       "      <td>1</td>\n",
       "      <td>3</td>\n",
       "      <td>0</td>\n",
       "      <td>0</td>\n",
       "    </tr>\n",
       "    <tr>\n",
       "      <th>4</th>\n",
       "      <td>5203</td>\n",
       "      <td>7490</td>\n",
       "      <td>2/5/09</td>\n",
       "      <td>204</td>\n",
       "      <td>10025</td>\n",
       "      <td>Apartment</td>\n",
       "      <td>2</td>\n",
       "      <td>1</td>\n",
       "      <td>1.0</td>\n",
       "      <td>1</td>\n",
       "      <td>1</td>\n",
       "      <td>79</td>\n",
       "      <td>1</td>\n",
       "      <td>0</td>\n",
       "      <td>2</td>\n",
       "      <td>0</td>\n",
       "    </tr>\n",
       "    <tr>\n",
       "      <th>...</th>\n",
       "      <td>...</td>\n",
       "      <td>...</td>\n",
       "      <td>...</td>\n",
       "      <td>...</td>\n",
       "      <td>...</td>\n",
       "      <td>...</td>\n",
       "      <td>...</td>\n",
       "      <td>...</td>\n",
       "      <td>...</td>\n",
       "      <td>...</td>\n",
       "      <td>...</td>\n",
       "      <td>...</td>\n",
       "      <td>...</td>\n",
       "      <td>...</td>\n",
       "      <td>...</td>\n",
       "      <td>...</td>\n",
       "    </tr>\n",
       "    <tr>\n",
       "      <th>50191</th>\n",
       "      <td>42890680</td>\n",
       "      <td>258247777</td>\n",
       "      <td>4/26/19</td>\n",
       "      <td>96</td>\n",
       "      <td>10030</td>\n",
       "      <td>Apartment</td>\n",
       "      <td>2</td>\n",
       "      <td>2</td>\n",
       "      <td>1.0</td>\n",
       "      <td>1</td>\n",
       "      <td>1</td>\n",
       "      <td>150</td>\n",
       "      <td>1</td>\n",
       "      <td>0</td>\n",
       "      <td>3</td>\n",
       "      <td>0</td>\n",
       "    </tr>\n",
       "    <tr>\n",
       "      <th>50192</th>\n",
       "      <td>42890730</td>\n",
       "      <td>79065824</td>\n",
       "      <td>6/21/16</td>\n",
       "      <td>204</td>\n",
       "      <td>10019</td>\n",
       "      <td>Apartment</td>\n",
       "      <td>0</td>\n",
       "      <td>2</td>\n",
       "      <td>1.0</td>\n",
       "      <td>0</td>\n",
       "      <td>0</td>\n",
       "      <td>149</td>\n",
       "      <td>1</td>\n",
       "      <td>0</td>\n",
       "      <td>3</td>\n",
       "      <td>0</td>\n",
       "    </tr>\n",
       "    <tr>\n",
       "      <th>50193</th>\n",
       "      <td>42891018</td>\n",
       "      <td>11849741</td>\n",
       "      <td>2/1/14</td>\n",
       "      <td>211</td>\n",
       "      <td>10014</td>\n",
       "      <td>Apartment</td>\n",
       "      <td>0</td>\n",
       "      <td>2</td>\n",
       "      <td>1.0</td>\n",
       "      <td>0</td>\n",
       "      <td>1</td>\n",
       "      <td>188</td>\n",
       "      <td>1</td>\n",
       "      <td>0</td>\n",
       "      <td>3</td>\n",
       "      <td>0</td>\n",
       "    </tr>\n",
       "    <tr>\n",
       "      <th>50194</th>\n",
       "      <td>42891637</td>\n",
       "      <td>209711461</td>\n",
       "      <td>8/15/18</td>\n",
       "      <td>51</td>\n",
       "      <td>11225</td>\n",
       "      <td>Apartment</td>\n",
       "      <td>2</td>\n",
       "      <td>2</td>\n",
       "      <td>1.0</td>\n",
       "      <td>1</td>\n",
       "      <td>1</td>\n",
       "      <td>1100</td>\n",
       "      <td>1</td>\n",
       "      <td>0</td>\n",
       "      <td>3</td>\n",
       "      <td>0</td>\n",
       "    </tr>\n",
       "    <tr>\n",
       "      <th>50195</th>\n",
       "      <td>42892717</td>\n",
       "      <td>263502980</td>\n",
       "      <td>5/22/19</td>\n",
       "      <td>160</td>\n",
       "      <td>11238</td>\n",
       "      <td>Apartment</td>\n",
       "      <td>0</td>\n",
       "      <td>5</td>\n",
       "      <td>1.0</td>\n",
       "      <td>2</td>\n",
       "      <td>3</td>\n",
       "      <td>450</td>\n",
       "      <td>1</td>\n",
       "      <td>3</td>\n",
       "      <td>3</td>\n",
       "      <td>0</td>\n",
       "    </tr>\n",
       "  </tbody>\n",
       "</table>\n",
       "<p>50196 rows × 16 columns</p>\n",
       "</div>"
      ],
      "text/plain": [
       "             id    host_id host_since  neighbourhood_cleansed  zipcode  \\\n",
       "0          2595       2845     9/9/08                     129    10018   \n",
       "1          3831       4869    12/7/08                      40    11238   \n",
       "2          5099       7322     2/2/09                     139    10016   \n",
       "3          5178       8967     3/3/09                      97    10019   \n",
       "4          5203       7490     2/5/09                     204    10025   \n",
       "...         ...        ...        ...                     ...      ...   \n",
       "50191  42890680  258247777    4/26/19                      96    10030   \n",
       "50192  42890730   79065824    6/21/16                     204    10019   \n",
       "50193  42891018   11849741     2/1/14                     211    10014   \n",
       "50194  42891637  209711461    8/15/18                      51    11225   \n",
       "50195  42892717  263502980    5/22/19                     160    11238   \n",
       "\n",
       "      property_type  room_type  accommodates  bathrooms  bedrooms  beds  \\\n",
       "0         Apartment          0             2        1.0         0     1   \n",
       "1       Guest suite          0             3        1.0         1     4   \n",
       "2         Apartment          0             2        1.0         1     1   \n",
       "3         Apartment          2             2        1.0         1     1   \n",
       "4         Apartment          2             1        1.0         1     1   \n",
       "...             ...        ...           ...        ...       ...   ...   \n",
       "50191     Apartment          2             2        1.0         1     1   \n",
       "50192     Apartment          0             2        1.0         0     0   \n",
       "50193     Apartment          0             2        1.0         0     1   \n",
       "50194     Apartment          2             2        1.0         1     1   \n",
       "50195     Apartment          0             5        1.0         2     3   \n",
       "\n",
       "       price  guests_included  cancellation_policy  review_cat  property_cat  \n",
       "0        225                1                    3           2             0  \n",
       "1         89                1                    1           0             2  \n",
       "2        200                2                    1           0             0  \n",
       "3         79                1                    3           0             0  \n",
       "4         79                1                    0           2             0  \n",
       "...      ...              ...                  ...         ...           ...  \n",
       "50191    150                1                    0           3             0  \n",
       "50192    149                1                    0           3             0  \n",
       "50193    188                1                    0           3             0  \n",
       "50194   1100                1                    0           3             0  \n",
       "50195    450                1                    3           3             0  \n",
       "\n",
       "[50196 rows x 16 columns]"
      ]
     },
     "execution_count": 89,
     "metadata": {},
     "output_type": "execute_result"
    }
   ],
   "source": [
    "listing"
   ]
  },
  {
   "cell_type": "code",
   "execution_count": 90,
   "metadata": {},
   "outputs": [],
   "source": [
    "zipcodes = listing.zipcode.copy()"
   ]
  },
  {
   "cell_type": "code",
   "execution_count": 91,
   "metadata": {
    "colab": {},
    "colab_type": "code",
    "id": "bkE7LrfFxqdY"
   },
   "outputs": [],
   "source": [
    "data_Y = listing['price']\n",
    "\n",
    "# those columns will not be fed into models\n",
    "data_X = listing.drop(['id', 'host_id', 'zipcode','host_since', 'price','property_type'], axis=1)"
   ]
  },
  {
   "cell_type": "code",
   "execution_count": 92,
   "metadata": {},
   "outputs": [
    {
     "data": {
      "text/plain": [
       "Index(['neighbourhood_cleansed', 'room_type', 'accommodates', 'bathrooms',\n",
       "       'bedrooms', 'beds', 'guests_included', 'cancellation_policy',\n",
       "       'review_cat', 'property_cat'],\n",
       "      dtype='object')"
      ]
     },
     "execution_count": 92,
     "metadata": {},
     "output_type": "execute_result"
    }
   ],
   "source": [
    "data_X.columns"
   ]
  },
  {
   "cell_type": "code",
   "execution_count": 67,
   "metadata": {
    "colab": {},
    "colab_type": "code",
    "id": "uU9mz8PT3oJv"
   },
   "outputs": [],
   "source": [
    "# train change to dummy:property_type，room_type，neighbourhood_cleansed，cancellation_policy，review_cat\n",
    "\n",
    "dummyCols=pd.get_dummies(data_X['room_type'])\n",
    "dummyCols.columns = [str(col) + 'room_type' for col in dummyCols.columns]\n",
    "data_X=data_X.join(dummyCols)\n",
    "del data_X['room_type']\n",
    "\n",
    "dummyCols2=pd.get_dummies(data_X['neighbourhood_cleansed'])\n",
    "dummyCols2.columns = [str(col) + 'neighbourhood_cleansed' for col in dummyCols2.columns]\n",
    "data_X=data_X.join(dummyCols2)\n",
    "del data_X['neighbourhood_cleansed']\n",
    "\n",
    "\n",
    "dummyCols3=pd.get_dummies(data_X['cancellation_policy'])\n",
    "dummyCols3.columns = [str(col) + 'cancellation_policy' for col in dummyCols3.columns]\n",
    "data_X=data_X.join(dummyCols3)\n",
    "del data_X['cancellation_policy']\n",
    "\n",
    "dummyCols4=pd.get_dummies(data_X['review_cat'])\n",
    "dummyCols4.columns = [str(col) + 'review_cat' for col in dummyCols4.columns]\n",
    "data_X=data_X.join(dummyCols4)\n",
    "del data_X['review_cat']\n",
    "\n",
    "dummyCols5=pd.get_dummies(data_X['property_cat'])\n",
    "dummyCols5.columns = [str(col) + 'property_cat' for col in dummyCols5.columns]\n",
    "data_X=data_X.join(dummyCols5)\n",
    "del data_X['property_cat']"
   ]
  },
  {
   "cell_type": "code",
   "execution_count": 95,
   "metadata": {},
   "outputs": [],
   "source": [
    "data_X = np.concatenate((data_X, listing_part1), axis=1)"
   ]
  },
  {
   "cell_type": "code",
   "execution_count": 87,
   "metadata": {},
   "outputs": [
    {
     "data": {
      "text/plain": [
       "array([[ 0.60565095,  0.46730886,  2.78059907, -0.58493052, -0.01958909,\n",
       "        -0.57617341],\n",
       "       [-0.85422717,  5.87957693,  2.68302077, -0.58493052, -0.29982302,\n",
       "        -0.41130751],\n",
       "       [ 1.06666509,  1.08001845,  2.6205268 ,  3.54541962, -0.20641171,\n",
       "        -0.90590521],\n",
       "       ...,\n",
       "       [-0.85422717, -0.51302649,  0.61962346, -0.58493052, -0.20641171,\n",
       "         1.56708329],\n",
       "       [-0.85422717, -0.51302649, -1.19599075, -0.58493052, -0.29982302,\n",
       "         0.99005264],\n",
       "       [ 5.29262805, -0.51302649, -1.50297866, -0.58493052, -0.01958909,\n",
       "         0.99005264]])"
      ]
     },
     "execution_count": 87,
     "metadata": {},
     "output_type": "execute_result"
    }
   ],
   "source": [
    "# data_X: "
   ]
  },
  {
   "cell_type": "code",
   "execution_count": 69,
   "metadata": {},
   "outputs": [],
   "source": [
    "data_X = data_X[(data_Y < 2000) & (data_Y > 0)]\n",
    "data_Y = data_Y[(data_Y < 2000) & (data_Y > 0)]"
   ]
  },
  {
   "cell_type": "code",
   "execution_count": 70,
   "metadata": {},
   "outputs": [],
   "source": [
    "train = data_X.shape[0] * 0.75"
   ]
  },
  {
   "cell_type": "code",
   "execution_count": 98,
   "metadata": {},
   "outputs": [
    {
     "data": {
      "text/plain": [
       "16"
      ]
     },
     "execution_count": 98,
     "metadata": {},
     "output_type": "execute_result"
    }
   ],
   "source": [
    "len(data_X[0])"
   ]
  },
  {
   "cell_type": "code",
   "execution_count": 71,
   "metadata": {
    "colab": {
     "base_uri": "https://localhost:8080/",
     "height": 69
    },
    "colab_type": "code",
    "executionInfo": {
     "elapsed": 316,
     "status": "ok",
     "timestamp": 1586114755277,
     "user": {
      "displayName": "Rain Liang",
      "photoUrl": "",
      "userId": "18346316114386872451"
     },
     "user_tz": 240
    },
    "id": "JuMnJ8M_z4kt",
    "outputId": "e86bf863-1e85-4e25-e307-9992390b4e4c"
   },
   "outputs": [],
   "source": [
    "train_X = data_X[:int(train)]\n",
    "test_X = data_X[int(train):]\n",
    "train_y = data_Y[:int(train)]\n",
    "test_y = data_Y[int(train):]\n",
    "\n",
    "# train_X = train_X[ train_y < 2000 and ]\n",
    "# train_X = train_X[ train_y > 0]\n",
    "# train_y = train_y[ train_y < 2000]\n",
    "# train_y = train_y[ train_y > 0]\n",
    "\n",
    "# test_X = test_X[test_y > 0]\n",
    "# test_y = test_y[test_y > 0]\n",
    "\n",
    "# zipcodes_test = zipcodes[int(train):]\n",
    "# zipcodes_test = zipcodes_test[test_y > 0]"
   ]
  },
  {
   "cell_type": "code",
   "execution_count": 72,
   "metadata": {
    "colab": {
     "base_uri": "https://localhost:8080/",
     "height": 32
    },
    "colab_type": "code",
    "executionInfo": {
     "elapsed": 236,
     "status": "ok",
     "timestamp": 1586114757772,
     "user": {
      "displayName": "Rain Liang",
      "photoUrl": "",
      "userId": "18346316114386872451"
     },
     "user_tz": 240
    },
    "id": "i0F-3KkK3JR4",
    "outputId": "a86ffa4c-8fd0-4cdd-94bf-000015ccff8b"
   },
   "outputs": [
    {
     "data": {
      "text/plain": [
       "(37511, 29)"
      ]
     },
     "execution_count": 72,
     "metadata": {},
     "output_type": "execute_result"
    }
   ],
   "source": [
    "train_X.shape"
   ]
  },
  {
   "cell_type": "code",
   "execution_count": 73,
   "metadata": {
    "colab": {},
    "colab_type": "code",
    "id": "okbTvU45m4fJ"
   },
   "outputs": [],
   "source": [
    "# build model\n",
    "# Linear Regression model\n",
    "\n",
    "model_1=LinearRegression()\n",
    "model_1.fit(train_X,train_y)\n",
    "y_pred = model_1.predict(test_X)\n"
   ]
  },
  {
   "cell_type": "code",
   "execution_count": 74,
   "metadata": {
    "colab": {
     "base_uri": "https://localhost:8080/",
     "height": 68
    },
    "colab_type": "code",
    "executionInfo": {
     "elapsed": 1174,
     "status": "ok",
     "timestamp": 1586030044934,
     "user": {
      "displayName": "Suli Li",
      "photoUrl": "",
      "userId": "18023684709239765360"
     },
     "user_tz": 240
    },
    "id": "3bKNAlyhm4l5",
    "outputId": "29d70a16-4053-4ff9-b39c-a111134cfaef"
   },
   "outputs": [
    {
     "name": "stdout",
     "output_type": "stream",
     "text": [
      "Mean Absolute Error: 70.79731267244482\n",
      "Mean Squared Error: 17950.255014026614\n",
      "Root Mean Squared Error: 133.97856177025716\n"
     ]
    }
   ],
   "source": [
    "print('Mean Absolute Error:', metrics.mean_absolute_error(test_y, y_pred))  \n",
    "print('Mean Squared Error:', metrics.mean_squared_error(test_y, y_pred))  \n",
    "print('Root Mean Squared Error:', np.sqrt(metrics.mean_squared_error(test_y, y_pred)))"
   ]
  },
  {
   "cell_type": "code",
   "execution_count": 75,
   "metadata": {
    "colab": {
     "base_uri": "https://localhost:8080/",
     "height": 439
    },
    "colab_type": "code",
    "executionInfo": {
     "elapsed": 1125,
     "status": "ok",
     "timestamp": 1586030064974,
     "user": {
      "displayName": "Suli Li",
      "photoUrl": "",
      "userId": "18023684709239765360"
     },
     "user_tz": 240
    },
    "id": "Fa4QCPfTm4sr",
    "outputId": "663c4469-67c2-4e6c-ba16-86c6a98833f8"
   },
   "outputs": [
    {
     "data": {
      "text/plain": [
       "array([[ 2.        ,  1.        ,  0.        , ..., -0.58493052,\n",
       "        -0.01958909, -0.57617341],\n",
       "       [ 3.        ,  1.        ,  1.        , ..., -0.58493052,\n",
       "        -0.29982302, -0.41130751],\n",
       "       [ 2.        ,  1.        ,  1.        , ...,  3.54541962,\n",
       "        -0.20641171, -0.90590521],\n",
       "       ...,\n",
       "       [ 3.        ,  1.        ,  1.        , ..., -0.58493052,\n",
       "         1.0079353 ,  1.56708329],\n",
       "       [ 1.        ,  1.        ,  1.        , ..., -0.58493052,\n",
       "        -0.25311737, -0.90590521],\n",
       "       [ 2.        ,  1.        ,  1.        , ..., -0.58493052,\n",
       "        -0.1130004 , -0.90590521]])"
      ]
     },
     "execution_count": 75,
     "metadata": {},
     "output_type": "execute_result"
    }
   ],
   "source": [
    "train_X"
   ]
  },
  {
   "cell_type": "code",
   "execution_count": 76,
   "metadata": {
    "colab": {},
    "colab_type": "code",
    "id": "QPzRrtVutjOU"
   },
   "outputs": [],
   "source": [
    "train_y_log = np.log(train_y+0.000001)\n",
    "ridge = RidgeCV(alphas=[1e-2, 1e-1, 1]).fit(train_X, train_y_log)\n",
    "y_pred_ridge = ridge.predict(test_X)"
   ]
  },
  {
   "cell_type": "code",
   "execution_count": 78,
   "metadata": {},
   "outputs": [],
   "source": [
    "# joblib.dump(ridge, \"ridge.pkl\")"
   ]
  },
  {
   "cell_type": "code",
   "execution_count": 79,
   "metadata": {
    "colab": {
     "base_uri": "https://localhost:8080/",
     "height": 32
    },
    "colab_type": "code",
    "executionInfo": {
     "elapsed": 191,
     "status": "ok",
     "timestamp": 1586114781701,
     "user": {
      "displayName": "Rain Liang",
      "photoUrl": "",
      "userId": "18346316114386872451"
     },
     "user_tz": 240
    },
    "id": "VAQ2U08twylg",
    "outputId": "b22ebe0a-9199-44e0-8c4b-dd1a602436a2"
   },
   "outputs": [
    {
     "data": {
      "text/plain": [
       "0.5326674439926598"
      ]
     },
     "execution_count": 79,
     "metadata": {},
     "output_type": "execute_result"
    }
   ],
   "source": [
    "ridge.score(train_X,train_y_log)"
   ]
  },
  {
   "cell_type": "code",
   "execution_count": 80,
   "metadata": {
    "colab": {
     "base_uri": "https://localhost:8080/",
     "height": 32
    },
    "colab_type": "code",
    "executionInfo": {
     "elapsed": 191,
     "status": "ok",
     "timestamp": 1586114782852,
     "user": {
      "displayName": "Rain Liang",
      "photoUrl": "",
      "userId": "18346316114386872451"
     },
     "user_tz": 240
    },
    "id": "VIe6j8eR8dsr",
    "outputId": "acf63269-72d4-4d63-fd4c-3b49e05b1782"
   },
   "outputs": [
    {
     "data": {
      "text/plain": [
       "0.569048592313127"
      ]
     },
     "execution_count": 80,
     "metadata": {},
     "output_type": "execute_result"
    }
   ],
   "source": [
    "ridge.score(test_X, np.log(test_y + 0.000001))"
   ]
  },
  {
   "cell_type": "code",
   "execution_count": 81,
   "metadata": {
    "colab": {
     "base_uri": "https://localhost:8080/",
     "height": 49
    },
    "colab_type": "code",
    "executionInfo": {
     "elapsed": 225,
     "status": "ok",
     "timestamp": 1586118214854,
     "user": {
      "displayName": "Rain Liang",
      "photoUrl": "",
      "userId": "18346316114386872451"
     },
     "user_tz": 240
    },
    "id": "ST9jbyyGuo-T",
    "outputId": "7fe83a2a-9d96-4728-e3a7-381ec07478e1"
   },
   "outputs": [
    {
     "name": "stdout",
     "output_type": "stream",
     "text": [
      "Mean Squared Error: 19288.014137115988\n",
      "Root Mean Squared Error: 138.8812951304674\n"
     ]
    }
   ],
   "source": [
    "print('Mean Squared Error:', metrics.mean_squared_error(test_y, np.exp(y_pred_ridge))) \n",
    "print('Root Mean Squared Error:', np.sqrt(metrics.mean_squared_error(test_y, np.exp(y_pred_ridge))))"
   ]
  },
  {
   "cell_type": "code",
   "execution_count": 230,
   "metadata": {
    "colab": {
     "base_uri": "https://localhost:8080/",
     "height": 49
    },
    "colab_type": "code",
    "executionInfo": {
     "elapsed": 218,
     "status": "ok",
     "timestamp": 1586118218989,
     "user": {
      "displayName": "Rain Liang",
      "photoUrl": "",
      "userId": "18346316114386872451"
     },
     "user_tz": 240
    },
    "id": "u43MbH82AzQA",
    "outputId": "107c469c-c4d8-45cc-f643-6dc20e33ba93"
   },
   "outputs": [
    {
     "name": "stdout",
     "output_type": "stream",
     "text": [
      "Mean Squared Error: 16189.332833265333\n",
      "Root Mean Squared Error: 127.23730912458552\n"
     ]
    }
   ],
   "source": [
    "print('Mean Squared Error:', metrics.mean_squared_error(y_test_low, np.exp(y_pred_low))) \n",
    "print('Root Mean Squared Error:', np.sqrt(metrics.mean_squared_error(y_test_low, np.exp(y_pred_low))))"
   ]
  },
  {
   "cell_type": "code",
   "execution_count": 0,
   "metadata": {
    "colab": {},
    "colab_type": "code",
    "id": "129fS9PL5kfp"
   },
   "outputs": [],
   "source": [
    "# plt.hist(np.log(train_y+0.0000001),bins = 200)"
   ]
  },
  {
   "cell_type": "code",
   "execution_count": 49,
   "metadata": {
    "colab": {},
    "colab_type": "code",
    "id": "DqEwPrjLxgs4"
   },
   "outputs": [],
   "source": [
    "# train_y_log = np.log(train_y+0.000001)\n",
    "Lasso = LassoCV(alphas=[1e-2, 1e-1, 1]).fit(train_X, train_y_log)\n",
    "y_pred_lasso = Lasso.predict(test_X)"
   ]
  },
  {
   "cell_type": "code",
   "execution_count": 50,
   "metadata": {
    "colab": {
     "base_uri": "https://localhost:8080/",
     "height": 32
    },
    "colab_type": "code",
    "executionInfo": {
     "elapsed": 195,
     "status": "ok",
     "timestamp": 1586118235570,
     "user": {
      "displayName": "Rain Liang",
      "photoUrl": "",
      "userId": "18346316114386872451"
     },
     "user_tz": 240
    },
    "id": "H86Pxr9ryZR9",
    "outputId": "8a4a3695-1362-4ea9-a8f4-e5f69ccf03f6"
   },
   "outputs": [
    {
     "data": {
      "text/plain": [
       "0.5179492858301653"
      ]
     },
     "execution_count": 50,
     "metadata": {},
     "output_type": "execute_result"
    }
   ],
   "source": [
    "Lasso.score(train_X,train_y_log)"
   ]
  },
  {
   "cell_type": "code",
   "execution_count": 51,
   "metadata": {
    "colab": {
     "base_uri": "https://localhost:8080/",
     "height": 32
    },
    "colab_type": "code",
    "executionInfo": {
     "elapsed": 216,
     "status": "ok",
     "timestamp": 1586118237565,
     "user": {
      "displayName": "Rain Liang",
      "photoUrl": "",
      "userId": "18346316114386872451"
     },
     "user_tz": 240
    },
    "id": "_wDJiNkfyc0m",
    "outputId": "58f053b3-a532-4891-9aba-ac0b6bc08d08"
   },
   "outputs": [
    {
     "data": {
      "text/plain": [
       "0.5428618914718288"
      ]
     },
     "execution_count": 51,
     "metadata": {},
     "output_type": "execute_result"
    }
   ],
   "source": [
    "Lasso.score(test_X, np.log(test_y + 0.000001))"
   ]
  },
  {
   "cell_type": "code",
   "execution_count": 52,
   "metadata": {
    "colab": {
     "base_uri": "https://localhost:8080/",
     "height": 49
    },
    "colab_type": "code",
    "executionInfo": {
     "elapsed": 173,
     "status": "ok",
     "timestamp": 1586118261994,
     "user": {
      "displayName": "Rain Liang",
      "photoUrl": "",
      "userId": "18346316114386872451"
     },
     "user_tz": 240
    },
    "id": "puuZ9Qv4ymtN",
    "outputId": "df79c65d-cada-4e05-9b4a-17bf2922164d"
   },
   "outputs": [
    {
     "name": "stdout",
     "output_type": "stream",
     "text": [
      "Mean Squared Error: 18820.624911571795\n",
      "Root Mean Squared Error: 137.18828270509036\n"
     ]
    }
   ],
   "source": [
    "print('Mean Squared Error:', metrics.mean_squared_error(test_y[test_y < 2000], np.exp(y_pred_lasso[test_y < 2000]))) \n",
    "print('Root Mean Squared Error:', np.sqrt(metrics.mean_squared_error(test_y[test_y < 2000], np.exp(y_pred_lasso[test_y < 2000]))))"
   ]
  },
  {
   "cell_type": "code",
   "execution_count": 66,
   "metadata": {
    "colab": {
     "base_uri": "https://localhost:8080/",
     "height": 65
    },
    "colab_type": "code",
    "executionInfo": {
     "elapsed": 180,
     "status": "ok",
     "timestamp": 1586114848108,
     "user": {
      "displayName": "Rain Liang",
      "photoUrl": "",
      "userId": "18346316114386872451"
     },
     "user_tz": 240
    },
    "id": "FQG93SSey0CK",
    "outputId": "f1e9f756-43de-4750-beed-e4320a440472"
   },
   "outputs": [
    {
     "name": "stdout",
     "output_type": "stream",
     "text": [
      "20\n",
      "253\n",
      "253\n"
     ]
    }
   ],
   "source": [
    "print(sum(Lasso.coef_!=0))\n",
    "print(len(Lasso.coef_))\n",
    "print(len(train_X.columns))"
   ]
  },
  {
   "cell_type": "code",
   "execution_count": 67,
   "metadata": {
    "colab": {},
    "colab_type": "code",
    "id": "ZYF3q82t2dNm"
   },
   "outputs": [],
   "source": [
    "Vars = train_X.columns[Lasso.coef_!=0]"
   ]
  },
  {
   "cell_type": "code",
   "execution_count": 68,
   "metadata": {},
   "outputs": [
    {
     "data": {
      "text/plain": [
       "Index(['Unnamed: 0', 'accommodates', 'bathrooms', 'bedrooms', 'cleaning_fee',\n",
       "       'extra_people', 'minimum_nights', 'availability_30',\n",
       "       'number_of_reviews', 'host_months', '0room_type', '2room_type',\n",
       "       '12neighbourhood_cleansed', '27neighbourhood_cleansed',\n",
       "       '97neighbourhood_cleansed', '129neighbourhood_cleansed', '0review_cat',\n",
       "       '3review_cat', '1property_cat', '2property_cat'],\n",
       "      dtype='object')"
      ]
     },
     "execution_count": 68,
     "metadata": {},
     "output_type": "execute_result"
    }
   ],
   "source": [
    "Vars"
   ]
  },
  {
   "cell_type": "code",
   "execution_count": 0,
   "metadata": {
    "colab": {},
    "colab_type": "code",
    "id": "COr915EUzF5Y"
   },
   "outputs": [],
   "source": [
    "# Model 2\n",
    "# KNN"
   ]
  },
  {
   "cell_type": "code",
   "execution_count": 69,
   "metadata": {
    "colab": {},
    "colab_type": "code",
    "id": "IVDtBPAeuvMc"
   },
   "outputs": [],
   "source": [
    "from sklearn.neighbors import KNeighborsRegressor\n",
    "\n",
    "knn = KNeighborsRegressor(n_neighbors=10, metric='euclidean')\n",
    "knn.fit(train_X[Vars], train_y)\n",
    "y_pred = knn.predict(test_X[Vars])\n"
   ]
  },
  {
   "cell_type": "code",
   "execution_count": 70,
   "metadata": {
    "colab": {
     "base_uri": "https://localhost:8080/",
     "height": 32
    },
    "colab_type": "code",
    "executionInfo": {
     "elapsed": 221,
     "status": "ok",
     "timestamp": 1586118754872,
     "user": {
      "displayName": "Rain Liang",
      "photoUrl": "",
      "userId": "18346316114386872451"
     },
     "user_tz": 240
    },
    "id": "LuoJ7c-4zuZQ",
    "outputId": "a3ad1ba3-c67c-47e4-e660-b58809103f88",
    "scrolled": true
   },
   "outputs": [
    {
     "name": "stdout",
     "output_type": "stream",
     "text": [
      "Root Mean Squared Error: 184.899063813201\n"
     ]
    }
   ],
   "source": [
    "#print(\"Accuracy:\", metrics.accuracy_score(test_y, y_pred))\n",
    "print('Root Mean Squared Error:', np.sqrt(metrics.mean_squared_error(test_y[test_y < 2000], y_pred[test_y < 2000])))"
   ]
  },
  {
   "cell_type": "code",
   "execution_count": 76,
   "metadata": {},
   "outputs": [],
   "source": [
    "# Model 3\n",
    "# PCA"
   ]
  },
  {
   "cell_type": "code",
   "execution_count": 220,
   "metadata": {},
   "outputs": [],
   "source": [
    "from sklearn.decomposition import PCA\n",
    "pca = PCA(n_components=20)\n",
    "pca.fit(train_X)\n",
    "train_x_pca = pca.transform(train_X)\n",
    "test_x_pca = pca.transform(test_X)"
   ]
  },
  {
   "cell_type": "code",
   "execution_count": 221,
   "metadata": {},
   "outputs": [
    {
     "data": {
      "text/plain": [
       "(12618, 20)"
      ]
     },
     "execution_count": 221,
     "metadata": {},
     "output_type": "execute_result"
    }
   ],
   "source": [
    "test_x_pca.shape"
   ]
  },
  {
   "cell_type": "code",
   "execution_count": 53,
   "metadata": {},
   "outputs": [],
   "source": [
    "model_1_pca=LinearRegression()\n",
    "model_1_pca.fit(train_x_pca,train_y_log)\n",
    "y_pred_pca = model_1_pca.predict(test_x_pca)"
   ]
  },
  {
   "cell_type": "code",
   "execution_count": 83,
   "metadata": {},
   "outputs": [
    {
     "data": {
      "text/plain": [
       "0.5112658310352178"
      ]
     },
     "execution_count": 83,
     "metadata": {},
     "output_type": "execute_result"
    }
   ],
   "source": [
    "model_1_pca.score(train_x_pca,train_y_log)"
   ]
  },
  {
   "cell_type": "code",
   "execution_count": 81,
   "metadata": {},
   "outputs": [
    {
     "name": "stdout",
     "output_type": "stream",
     "text": [
      "Mean Absolute Error: 113.72369308983492\n",
      "Mean Squared Error: 472111.46430226264\n",
      "Root Mean Squared Error: 687.103677986272\n"
     ]
    }
   ],
   "source": [
    "print('Mean Absolute Error:', metrics.mean_absolute_error(test_y, np.exp(y_pred_pca)))  \n",
    "print('Mean Squared Error:', metrics.mean_squared_error(test_y, np.exp(y_pred_pca)))  \n",
    "print('Root Mean Squared Error:', np.sqrt(metrics.mean_squared_error(test_y, np.exp(y_pred_pca))))"
   ]
  },
  {
   "cell_type": "code",
   "execution_count": null,
   "metadata": {},
   "outputs": [],
   "source": [
    "plt.plot(s)"
   ]
  },
  {
   "cell_type": "code",
   "execution_count": 101,
   "metadata": {},
   "outputs": [],
   "source": [
    "sales = pd.read_csv(\"zip_Data.csv\")"
   ]
  },
  {
   "cell_type": "code",
   "execution_count": 103,
   "metadata": {},
   "outputs": [],
   "source": [
    "sales.Price = sales.Price / 36.83"
   ]
  },
  {
   "cell_type": "code",
   "execution_count": 104,
   "metadata": {},
   "outputs": [
    {
     "data": {
      "text/html": [
       "<div>\n",
       "<style scoped>\n",
       "    .dataframe tbody tr th:only-of-type {\n",
       "        vertical-align: middle;\n",
       "    }\n",
       "\n",
       "    .dataframe tbody tr th {\n",
       "        vertical-align: top;\n",
       "    }\n",
       "\n",
       "    .dataframe thead th {\n",
       "        text-align: right;\n",
       "    }\n",
       "</style>\n",
       "<table border=\"1\" class=\"dataframe\">\n",
       "  <thead>\n",
       "    <tr style=\"text-align: right;\">\n",
       "      <th></th>\n",
       "      <th>RegionName</th>\n",
       "      <th>Price</th>\n",
       "    </tr>\n",
       "  </thead>\n",
       "  <tbody>\n",
       "    <tr>\n",
       "      <th>0</th>\n",
       "      <td>10025</td>\n",
       "      <td>30416.146267</td>\n",
       "    </tr>\n",
       "    <tr>\n",
       "      <th>1</th>\n",
       "      <td>10023</td>\n",
       "      <td>33043.795819</td>\n",
       "    </tr>\n",
       "    <tr>\n",
       "      <th>2</th>\n",
       "      <td>10002</td>\n",
       "      <td>29823.106163</td>\n",
       "    </tr>\n",
       "    <tr>\n",
       "      <th>3</th>\n",
       "      <td>11226</td>\n",
       "      <td>17416.978911</td>\n",
       "    </tr>\n",
       "    <tr>\n",
       "      <th>4</th>\n",
       "      <td>10467</td>\n",
       "      <td>17416.978911</td>\n",
       "    </tr>\n",
       "    <tr>\n",
       "      <th>5</th>\n",
       "      <td>10016</td>\n",
       "      <td>21317.241379</td>\n",
       "    </tr>\n",
       "    <tr>\n",
       "      <th>6</th>\n",
       "      <td>11201</td>\n",
       "      <td>26042.474431</td>\n",
       "    </tr>\n",
       "    <tr>\n",
       "      <th>7</th>\n",
       "      <td>11235</td>\n",
       "      <td>10589.410806</td>\n",
       "    </tr>\n",
       "    <tr>\n",
       "      <th>8</th>\n",
       "      <td>11375</td>\n",
       "      <td>11050.303196</td>\n",
       "    </tr>\n",
       "    <tr>\n",
       "      <th>9</th>\n",
       "      <td>10009</td>\n",
       "      <td>23473.418409</td>\n",
       "    </tr>\n",
       "    <tr>\n",
       "      <th>10</th>\n",
       "      <td>10011</td>\n",
       "      <td>27608.742873</td>\n",
       "    </tr>\n",
       "    <tr>\n",
       "      <th>11</th>\n",
       "      <td>10128</td>\n",
       "      <td>27879.590904</td>\n",
       "    </tr>\n",
       "    <tr>\n",
       "      <th>12</th>\n",
       "      <td>11206</td>\n",
       "      <td>15609.494073</td>\n",
       "    </tr>\n",
       "    <tr>\n",
       "      <th>13</th>\n",
       "      <td>10462</td>\n",
       "      <td>5070.105892</td>\n",
       "    </tr>\n",
       "    <tr>\n",
       "      <th>14</th>\n",
       "      <td>10456</td>\n",
       "      <td>8668.621594</td>\n",
       "    </tr>\n",
       "    <tr>\n",
       "      <th>15</th>\n",
       "      <td>10019</td>\n",
       "      <td>29450.619957</td>\n",
       "    </tr>\n",
       "    <tr>\n",
       "      <th>16</th>\n",
       "      <td>10003</td>\n",
       "      <td>28424.961526</td>\n",
       "    </tr>\n",
       "    <tr>\n",
       "      <th>17</th>\n",
       "      <td>11230</td>\n",
       "      <td>14068.440584</td>\n",
       "    </tr>\n",
       "    <tr>\n",
       "      <th>18</th>\n",
       "      <td>11212</td>\n",
       "      <td>12927.350891</td>\n",
       "    </tr>\n",
       "    <tr>\n",
       "      <th>19</th>\n",
       "      <td>10463</td>\n",
       "      <td>9094.614898</td>\n",
       "    </tr>\n",
       "    <tr>\n",
       "      <th>20</th>\n",
       "      <td>11209</td>\n",
       "      <td>12943.180377</td>\n",
       "    </tr>\n",
       "    <tr>\n",
       "      <th>21</th>\n",
       "      <td>11221</td>\n",
       "      <td>29395.981537</td>\n",
       "    </tr>\n",
       "    <tr>\n",
       "      <th>22</th>\n",
       "      <td>10024</td>\n",
       "      <td>35969.526663</td>\n",
       "    </tr>\n",
       "    <tr>\n",
       "      <th>23</th>\n",
       "      <td>11214</td>\n",
       "      <td>13209.475971</td>\n",
       "    </tr>\n",
       "    <tr>\n",
       "      <th>24</th>\n",
       "      <td>11207</td>\n",
       "      <td>12978.703956</td>\n",
       "    </tr>\n",
       "    <tr>\n",
       "      <th>25</th>\n",
       "      <td>11229</td>\n",
       "      <td>15775.382387</td>\n",
       "    </tr>\n",
       "    <tr>\n",
       "      <th>26</th>\n",
       "      <td>10458</td>\n",
       "      <td>5050.276044</td>\n",
       "    </tr>\n",
       "    <tr>\n",
       "      <th>27</th>\n",
       "      <td>11211</td>\n",
       "      <td>27098.479500</td>\n",
       "    </tr>\n",
       "    <tr>\n",
       "      <th>28</th>\n",
       "      <td>11377</td>\n",
       "      <td>11886.324553</td>\n",
       "    </tr>\n",
       "    <tr>\n",
       "      <th>29</th>\n",
       "      <td>10453</td>\n",
       "      <td>12890.288713</td>\n",
       "    </tr>\n",
       "    <tr>\n",
       "      <th>...</th>\n",
       "      <td>...</td>\n",
       "      <td>...</td>\n",
       "    </tr>\n",
       "    <tr>\n",
       "      <th>146</th>\n",
       "      <td>11356</td>\n",
       "      <td>19745.316318</td>\n",
       "    </tr>\n",
       "    <tr>\n",
       "      <th>147</th>\n",
       "      <td>10005</td>\n",
       "      <td>31023.341488</td>\n",
       "    </tr>\n",
       "    <tr>\n",
       "      <th>148</th>\n",
       "      <td>11429</td>\n",
       "      <td>14259.878721</td>\n",
       "    </tr>\n",
       "    <tr>\n",
       "      <th>149</th>\n",
       "      <td>11362</td>\n",
       "      <td>17112.734184</td>\n",
       "    </tr>\n",
       "    <tr>\n",
       "      <th>150</th>\n",
       "      <td>11411</td>\n",
       "      <td>13910.824510</td>\n",
       "    </tr>\n",
       "    <tr>\n",
       "      <th>151</th>\n",
       "      <td>10470</td>\n",
       "      <td>10716.218661</td>\n",
       "    </tr>\n",
       "    <tr>\n",
       "      <th>152</th>\n",
       "      <td>11426</td>\n",
       "      <td>17097.474885</td>\n",
       "    </tr>\n",
       "    <tr>\n",
       "      <th>153</th>\n",
       "      <td>10302</td>\n",
       "      <td>12173.201195</td>\n",
       "    </tr>\n",
       "    <tr>\n",
       "      <th>154</th>\n",
       "      <td>11428</td>\n",
       "      <td>15450.674268</td>\n",
       "    </tr>\n",
       "    <tr>\n",
       "      <th>155</th>\n",
       "      <td>10044</td>\n",
       "      <td>26333.215675</td>\n",
       "    </tr>\n",
       "    <tr>\n",
       "      <th>156</th>\n",
       "      <td>11693</td>\n",
       "      <td>7488.333785</td>\n",
       "    </tr>\n",
       "    <tr>\n",
       "      <th>157</th>\n",
       "      <td>11004</td>\n",
       "      <td>10763.182188</td>\n",
       "    </tr>\n",
       "    <tr>\n",
       "      <th>158</th>\n",
       "      <td>10280</td>\n",
       "      <td>23738.419766</td>\n",
       "    </tr>\n",
       "    <tr>\n",
       "      <th>159</th>\n",
       "      <td>11416</td>\n",
       "      <td>15793.474523</td>\n",
       "    </tr>\n",
       "    <tr>\n",
       "      <th>160</th>\n",
       "      <td>11436</td>\n",
       "      <td>13328.599872</td>\n",
       "    </tr>\n",
       "    <tr>\n",
       "      <th>161</th>\n",
       "      <td>11366</td>\n",
       "      <td>24617.847768</td>\n",
       "    </tr>\n",
       "    <tr>\n",
       "      <th>162</th>\n",
       "      <td>10307</td>\n",
       "      <td>16957.453163</td>\n",
       "    </tr>\n",
       "    <tr>\n",
       "      <th>163</th>\n",
       "      <td>10069</td>\n",
       "      <td>53637.062178</td>\n",
       "    </tr>\n",
       "    <tr>\n",
       "      <th>164</th>\n",
       "      <td>10007</td>\n",
       "      <td>78345.470187</td>\n",
       "    </tr>\n",
       "    <tr>\n",
       "      <th>165</th>\n",
       "      <td>11697</td>\n",
       "      <td>11212.209251</td>\n",
       "    </tr>\n",
       "    <tr>\n",
       "      <th>166</th>\n",
       "      <td>10282</td>\n",
       "      <td>66588.777274</td>\n",
       "    </tr>\n",
       "    <tr>\n",
       "      <th>167</th>\n",
       "      <td>11363</td>\n",
       "      <td>25181.102362</td>\n",
       "    </tr>\n",
       "    <tr>\n",
       "      <th>168</th>\n",
       "      <td>10006</td>\n",
       "      <td>22836.519142</td>\n",
       "    </tr>\n",
       "    <tr>\n",
       "      <th>169</th>\n",
       "      <td>10004</td>\n",
       "      <td>34267.119196</td>\n",
       "    </tr>\n",
       "    <tr>\n",
       "      <th>170</th>\n",
       "      <td>10464</td>\n",
       "      <td>14680.993755</td>\n",
       "    </tr>\n",
       "    <tr>\n",
       "      <th>171</th>\n",
       "      <td>11430</td>\n",
       "      <td>18675.391439</td>\n",
       "    </tr>\n",
       "    <tr>\n",
       "      <th>172</th>\n",
       "      <td>11243</td>\n",
       "      <td>39660.059734</td>\n",
       "    </tr>\n",
       "    <tr>\n",
       "      <th>173</th>\n",
       "      <td>13784</td>\n",
       "      <td>3170.603674</td>\n",
       "    </tr>\n",
       "    <tr>\n",
       "      <th>174</th>\n",
       "      <td>10020</td>\n",
       "      <td>12152.330527</td>\n",
       "    </tr>\n",
       "    <tr>\n",
       "      <th>175</th>\n",
       "      <td>10118</td>\n",
       "      <td>30416.146267</td>\n",
       "    </tr>\n",
       "  </tbody>\n",
       "</table>\n",
       "<p>176 rows × 2 columns</p>\n",
       "</div>"
      ],
      "text/plain": [
       "     RegionName         Price\n",
       "0         10025  30416.146267\n",
       "1         10023  33043.795819\n",
       "2         10002  29823.106163\n",
       "3         11226  17416.978911\n",
       "4         10467  17416.978911\n",
       "5         10016  21317.241379\n",
       "6         11201  26042.474431\n",
       "7         11235  10589.410806\n",
       "8         11375  11050.303196\n",
       "9         10009  23473.418409\n",
       "10        10011  27608.742873\n",
       "11        10128  27879.590904\n",
       "12        11206  15609.494073\n",
       "13        10462   5070.105892\n",
       "14        10456   8668.621594\n",
       "15        10019  29450.619957\n",
       "16        10003  28424.961526\n",
       "17        11230  14068.440584\n",
       "18        11212  12927.350891\n",
       "19        10463   9094.614898\n",
       "20        11209  12943.180377\n",
       "21        11221  29395.981537\n",
       "22        10024  35969.526663\n",
       "23        11214  13209.475971\n",
       "24        11207  12978.703956\n",
       "25        11229  15775.382387\n",
       "26        10458   5050.276044\n",
       "27        11211  27098.479500\n",
       "28        11377  11886.324553\n",
       "29        10453  12890.288713\n",
       "..          ...           ...\n",
       "146       11356  19745.316318\n",
       "147       10005  31023.341488\n",
       "148       11429  14259.878721\n",
       "149       11362  17112.734184\n",
       "150       11411  13910.824510\n",
       "151       10470  10716.218661\n",
       "152       11426  17097.474885\n",
       "153       10302  12173.201195\n",
       "154       11428  15450.674268\n",
       "155       10044  26333.215675\n",
       "156       11693   7488.333785\n",
       "157       11004  10763.182188\n",
       "158       10280  23738.419766\n",
       "159       11416  15793.474523\n",
       "160       11436  13328.599872\n",
       "161       11366  24617.847768\n",
       "162       10307  16957.453163\n",
       "163       10069  53637.062178\n",
       "164       10007  78345.470187\n",
       "165       11697  11212.209251\n",
       "166       10282  66588.777274\n",
       "167       11363  25181.102362\n",
       "168       10006  22836.519142\n",
       "169       10004  34267.119196\n",
       "170       10464  14680.993755\n",
       "171       11430  18675.391439\n",
       "172       11243  39660.059734\n",
       "173       13784   3170.603674\n",
       "174       10020  12152.330527\n",
       "175       10118  30416.146267\n",
       "\n",
       "[176 rows x 2 columns]"
      ]
     },
     "execution_count": 104,
     "metadata": {},
     "output_type": "execute_result"
    }
   ],
   "source": [
    "sales"
   ]
  },
  {
   "cell_type": "code",
   "execution_count": 68,
   "metadata": {},
   "outputs": [
    {
     "data": {
      "text/plain": [
       "176"
      ]
     },
     "execution_count": 68,
     "metadata": {},
     "output_type": "execute_result"
    }
   ],
   "source": [
    "len(sales.RegionName.unique())"
   ]
  },
  {
   "cell_type": "code",
   "execution_count": 69,
   "metadata": {},
   "outputs": [
    {
     "data": {
      "text/plain": [
       "209"
      ]
     },
     "execution_count": 69,
     "metadata": {},
     "output_type": "execute_result"
    }
   ],
   "source": [
    "len(set(zipcodes_test))"
   ]
  },
  {
   "cell_type": "code",
   "execution_count": 106,
   "metadata": {},
   "outputs": [],
   "source": [
    "pred_price_by_zip = pd.DataFrame({\"zip\":zipcodes_test, \"lasso_pred_price\": np.exp(y_pred_lasso), \"ridge_pred_price\": np.exp(y_pred_ridge), \"knn_pred_price\": y_pred})"
   ]
  },
  {
   "cell_type": "code",
   "execution_count": 107,
   "metadata": {},
   "outputs": [
    {
     "data": {
      "text/html": [
       "<div>\n",
       "<style scoped>\n",
       "    .dataframe tbody tr th:only-of-type {\n",
       "        vertical-align: middle;\n",
       "    }\n",
       "\n",
       "    .dataframe tbody tr th {\n",
       "        vertical-align: top;\n",
       "    }\n",
       "\n",
       "    .dataframe thead th {\n",
       "        text-align: right;\n",
       "    }\n",
       "</style>\n",
       "<table border=\"1\" class=\"dataframe\">\n",
       "  <thead>\n",
       "    <tr style=\"text-align: right;\">\n",
       "      <th></th>\n",
       "      <th>zip</th>\n",
       "      <th>lasso_pred_price</th>\n",
       "      <th>ridge_pred_price</th>\n",
       "      <th>knn_pred_price</th>\n",
       "    </tr>\n",
       "  </thead>\n",
       "  <tbody>\n",
       "    <tr>\n",
       "      <th>37987</th>\n",
       "      <td>10454</td>\n",
       "      <td>195.988387</td>\n",
       "      <td>119.342366</td>\n",
       "      <td>178.815430</td>\n",
       "    </tr>\n",
       "    <tr>\n",
       "      <th>37988</th>\n",
       "      <td>10016</td>\n",
       "      <td>228.271837</td>\n",
       "      <td>267.555882</td>\n",
       "      <td>312.465820</td>\n",
       "    </tr>\n",
       "    <tr>\n",
       "      <th>37989</th>\n",
       "      <td>11220</td>\n",
       "      <td>58.956774</td>\n",
       "      <td>49.271334</td>\n",
       "      <td>44.864258</td>\n",
       "    </tr>\n",
       "    <tr>\n",
       "      <th>37990</th>\n",
       "      <td>11203</td>\n",
       "      <td>191.748204</td>\n",
       "      <td>173.631577</td>\n",
       "      <td>272.821289</td>\n",
       "    </tr>\n",
       "    <tr>\n",
       "      <th>37991</th>\n",
       "      <td>10028</td>\n",
       "      <td>155.093004</td>\n",
       "      <td>182.527104</td>\n",
       "      <td>192.964844</td>\n",
       "    </tr>\n",
       "    <tr>\n",
       "      <th>37992</th>\n",
       "      <td>11206</td>\n",
       "      <td>147.014236</td>\n",
       "      <td>162.665765</td>\n",
       "      <td>188.779297</td>\n",
       "    </tr>\n",
       "    <tr>\n",
       "      <th>37993</th>\n",
       "      <td>10009</td>\n",
       "      <td>204.895237</td>\n",
       "      <td>259.456066</td>\n",
       "      <td>267.955078</td>\n",
       "    </tr>\n",
       "    <tr>\n",
       "      <th>37994</th>\n",
       "      <td>11211</td>\n",
       "      <td>158.145878</td>\n",
       "      <td>147.542439</td>\n",
       "      <td>164.164062</td>\n",
       "    </tr>\n",
       "    <tr>\n",
       "      <th>37995</th>\n",
       "      <td>11206</td>\n",
       "      <td>161.334390</td>\n",
       "      <td>168.084909</td>\n",
       "      <td>194.145508</td>\n",
       "    </tr>\n",
       "    <tr>\n",
       "      <th>37996</th>\n",
       "      <td>11207</td>\n",
       "      <td>68.337345</td>\n",
       "      <td>67.982715</td>\n",
       "      <td>128.209961</td>\n",
       "    </tr>\n",
       "    <tr>\n",
       "      <th>37997</th>\n",
       "      <td>10128</td>\n",
       "      <td>74.468743</td>\n",
       "      <td>92.449501</td>\n",
       "      <td>127.279297</td>\n",
       "    </tr>\n",
       "    <tr>\n",
       "      <th>37998</th>\n",
       "      <td>10019</td>\n",
       "      <td>151.076188</td>\n",
       "      <td>212.766680</td>\n",
       "      <td>224.707031</td>\n",
       "    </tr>\n",
       "    <tr>\n",
       "      <th>37999</th>\n",
       "      <td>10025</td>\n",
       "      <td>243.450088</td>\n",
       "      <td>281.063643</td>\n",
       "      <td>298.537109</td>\n",
       "    </tr>\n",
       "    <tr>\n",
       "      <th>38000</th>\n",
       "      <td>11212</td>\n",
       "      <td>71.553836</td>\n",
       "      <td>59.603823</td>\n",
       "      <td>55.677734</td>\n",
       "    </tr>\n",
       "    <tr>\n",
       "      <th>38001</th>\n",
       "      <td>11217</td>\n",
       "      <td>58.221423</td>\n",
       "      <td>62.693136</td>\n",
       "      <td>62.399414</td>\n",
       "    </tr>\n",
       "    <tr>\n",
       "      <th>38002</th>\n",
       "      <td>11419</td>\n",
       "      <td>167.066169</td>\n",
       "      <td>129.842625</td>\n",
       "      <td>158.933594</td>\n",
       "    </tr>\n",
       "    <tr>\n",
       "      <th>38003</th>\n",
       "      <td>10031</td>\n",
       "      <td>65.095142</td>\n",
       "      <td>65.665919</td>\n",
       "      <td>64.063477</td>\n",
       "    </tr>\n",
       "    <tr>\n",
       "      <th>38004</th>\n",
       "      <td>11206</td>\n",
       "      <td>57.033876</td>\n",
       "      <td>52.810325</td>\n",
       "      <td>32.715820</td>\n",
       "    </tr>\n",
       "    <tr>\n",
       "      <th>38005</th>\n",
       "      <td>10021</td>\n",
       "      <td>117.854802</td>\n",
       "      <td>138.722326</td>\n",
       "      <td>150.110352</td>\n",
       "    </tr>\n",
       "    <tr>\n",
       "      <th>38006</th>\n",
       "      <td>11249</td>\n",
       "      <td>154.917765</td>\n",
       "      <td>151.913069</td>\n",
       "      <td>169.959961</td>\n",
       "    </tr>\n",
       "    <tr>\n",
       "      <th>38007</th>\n",
       "      <td>10065</td>\n",
       "      <td>137.413540</td>\n",
       "      <td>158.346165</td>\n",
       "      <td>164.845703</td>\n",
       "    </tr>\n",
       "    <tr>\n",
       "      <th>38008</th>\n",
       "      <td>11207</td>\n",
       "      <td>71.755609</td>\n",
       "      <td>62.652207</td>\n",
       "      <td>98.335938</td>\n",
       "    </tr>\n",
       "    <tr>\n",
       "      <th>38009</th>\n",
       "      <td>10009</td>\n",
       "      <td>134.742704</td>\n",
       "      <td>196.702674</td>\n",
       "      <td>214.974609</td>\n",
       "    </tr>\n",
       "    <tr>\n",
       "      <th>38010</th>\n",
       "      <td>10462</td>\n",
       "      <td>114.629256</td>\n",
       "      <td>97.654496</td>\n",
       "      <td>173.746094</td>\n",
       "    </tr>\n",
       "    <tr>\n",
       "      <th>38011</th>\n",
       "      <td>10003</td>\n",
       "      <td>68.509968</td>\n",
       "      <td>83.812326</td>\n",
       "      <td>99.892578</td>\n",
       "    </tr>\n",
       "    <tr>\n",
       "      <th>38012</th>\n",
       "      <td>11212</td>\n",
       "      <td>63.478332</td>\n",
       "      <td>50.012887</td>\n",
       "      <td>24.878906</td>\n",
       "    </tr>\n",
       "    <tr>\n",
       "      <th>38013</th>\n",
       "      <td>11226</td>\n",
       "      <td>234.101320</td>\n",
       "      <td>192.397647</td>\n",
       "      <td>243.701172</td>\n",
       "    </tr>\n",
       "    <tr>\n",
       "      <th>38014</th>\n",
       "      <td>11206</td>\n",
       "      <td>61.454592</td>\n",
       "      <td>54.676426</td>\n",
       "      <td>35.059570</td>\n",
       "    </tr>\n",
       "    <tr>\n",
       "      <th>38015</th>\n",
       "      <td>11216</td>\n",
       "      <td>127.299201</td>\n",
       "      <td>100.802473</td>\n",
       "      <td>103.690430</td>\n",
       "    </tr>\n",
       "    <tr>\n",
       "      <th>38016</th>\n",
       "      <td>11225</td>\n",
       "      <td>78.543537</td>\n",
       "      <td>63.826793</td>\n",
       "      <td>64.762695</td>\n",
       "    </tr>\n",
       "    <tr>\n",
       "      <th>...</th>\n",
       "      <td>...</td>\n",
       "      <td>...</td>\n",
       "      <td>...</td>\n",
       "      <td>...</td>\n",
       "    </tr>\n",
       "    <tr>\n",
       "      <th>50620</th>\n",
       "      <td>10462</td>\n",
       "      <td>63.969542</td>\n",
       "      <td>75.970399</td>\n",
       "      <td>142.888672</td>\n",
       "    </tr>\n",
       "    <tr>\n",
       "      <th>50621</th>\n",
       "      <td>10036</td>\n",
       "      <td>70.945355</td>\n",
       "      <td>78.320115</td>\n",
       "      <td>134.977539</td>\n",
       "    </tr>\n",
       "    <tr>\n",
       "      <th>50622</th>\n",
       "      <td>11102</td>\n",
       "      <td>68.493564</td>\n",
       "      <td>76.818351</td>\n",
       "      <td>134.829102</td>\n",
       "    </tr>\n",
       "    <tr>\n",
       "      <th>50623</th>\n",
       "      <td>10001</td>\n",
       "      <td>117.836923</td>\n",
       "      <td>179.843923</td>\n",
       "      <td>203.650391</td>\n",
       "    </tr>\n",
       "    <tr>\n",
       "      <th>50624</th>\n",
       "      <td>10036</td>\n",
       "      <td>87.991895</td>\n",
       "      <td>135.343172</td>\n",
       "      <td>196.927734</td>\n",
       "    </tr>\n",
       "    <tr>\n",
       "      <th>50625</th>\n",
       "      <td>10012</td>\n",
       "      <td>169.757046</td>\n",
       "      <td>276.499160</td>\n",
       "      <td>306.416992</td>\n",
       "    </tr>\n",
       "    <tr>\n",
       "      <th>50626</th>\n",
       "      <td>11378</td>\n",
       "      <td>244.359659</td>\n",
       "      <td>173.956454</td>\n",
       "      <td>228.779297</td>\n",
       "    </tr>\n",
       "    <tr>\n",
       "      <th>50627</th>\n",
       "      <td>10028</td>\n",
       "      <td>127.385903</td>\n",
       "      <td>166.624027</td>\n",
       "      <td>196.276367</td>\n",
       "    </tr>\n",
       "    <tr>\n",
       "      <th>50628</th>\n",
       "      <td>10021</td>\n",
       "      <td>74.121459</td>\n",
       "      <td>98.302340</td>\n",
       "      <td>108.807617</td>\n",
       "    </tr>\n",
       "    <tr>\n",
       "      <th>50629</th>\n",
       "      <td>10021</td>\n",
       "      <td>75.931821</td>\n",
       "      <td>106.449671</td>\n",
       "      <td>154.514648</td>\n",
       "    </tr>\n",
       "    <tr>\n",
       "      <th>50630</th>\n",
       "      <td>11207</td>\n",
       "      <td>83.269966</td>\n",
       "      <td>71.255660</td>\n",
       "      <td>107.585938</td>\n",
       "    </tr>\n",
       "    <tr>\n",
       "      <th>50631</th>\n",
       "      <td>11207</td>\n",
       "      <td>80.302034</td>\n",
       "      <td>69.925107</td>\n",
       "      <td>103.947266</td>\n",
       "    </tr>\n",
       "    <tr>\n",
       "      <th>50632</th>\n",
       "      <td>11207</td>\n",
       "      <td>73.123437</td>\n",
       "      <td>63.905203</td>\n",
       "      <td>86.926758</td>\n",
       "    </tr>\n",
       "    <tr>\n",
       "      <th>50633</th>\n",
       "      <td>11221</td>\n",
       "      <td>59.315869</td>\n",
       "      <td>58.376083</td>\n",
       "      <td>61.908203</td>\n",
       "    </tr>\n",
       "    <tr>\n",
       "      <th>50634</th>\n",
       "      <td>11207</td>\n",
       "      <td>83.268810</td>\n",
       "      <td>71.255212</td>\n",
       "      <td>107.585938</td>\n",
       "    </tr>\n",
       "    <tr>\n",
       "      <th>50635</th>\n",
       "      <td>11225</td>\n",
       "      <td>274.842444</td>\n",
       "      <td>262.000680</td>\n",
       "      <td>342.375000</td>\n",
       "    </tr>\n",
       "    <tr>\n",
       "      <th>50636</th>\n",
       "      <td>11207</td>\n",
       "      <td>80.300640</td>\n",
       "      <td>69.924557</td>\n",
       "      <td>103.947266</td>\n",
       "    </tr>\n",
       "    <tr>\n",
       "      <th>50637</th>\n",
       "      <td>10012</td>\n",
       "      <td>187.592164</td>\n",
       "      <td>329.780353</td>\n",
       "      <td>334.492188</td>\n",
       "    </tr>\n",
       "    <tr>\n",
       "      <th>50638</th>\n",
       "      <td>11207</td>\n",
       "      <td>73.121914</td>\n",
       "      <td>63.904600</td>\n",
       "      <td>86.926758</td>\n",
       "    </tr>\n",
       "    <tr>\n",
       "      <th>50639</th>\n",
       "      <td>10012</td>\n",
       "      <td>132.182842</td>\n",
       "      <td>198.300586</td>\n",
       "      <td>222.952148</td>\n",
       "    </tr>\n",
       "    <tr>\n",
       "      <th>50640</th>\n",
       "      <td>10004</td>\n",
       "      <td>120.421147</td>\n",
       "      <td>173.915106</td>\n",
       "      <td>192.811523</td>\n",
       "    </tr>\n",
       "    <tr>\n",
       "      <th>50641</th>\n",
       "      <td>10012</td>\n",
       "      <td>145.157844</td>\n",
       "      <td>216.979580</td>\n",
       "      <td>239.972656</td>\n",
       "    </tr>\n",
       "    <tr>\n",
       "      <th>50642</th>\n",
       "      <td>11231</td>\n",
       "      <td>148.749738</td>\n",
       "      <td>143.361158</td>\n",
       "      <td>203.039062</td>\n",
       "    </tr>\n",
       "    <tr>\n",
       "      <th>50643</th>\n",
       "      <td>11206</td>\n",
       "      <td>129.072729</td>\n",
       "      <td>115.971157</td>\n",
       "      <td>150.224609</td>\n",
       "    </tr>\n",
       "    <tr>\n",
       "      <th>50644</th>\n",
       "      <td>10031</td>\n",
       "      <td>68.600406</td>\n",
       "      <td>70.986698</td>\n",
       "      <td>91.303711</td>\n",
       "    </tr>\n",
       "    <tr>\n",
       "      <th>50645</th>\n",
       "      <td>10030</td>\n",
       "      <td>74.058829</td>\n",
       "      <td>80.841180</td>\n",
       "      <td>112.075195</td>\n",
       "    </tr>\n",
       "    <tr>\n",
       "      <th>50646</th>\n",
       "      <td>10019</td>\n",
       "      <td>120.004216</td>\n",
       "      <td>166.812667</td>\n",
       "      <td>190.503906</td>\n",
       "    </tr>\n",
       "    <tr>\n",
       "      <th>50647</th>\n",
       "      <td>10014</td>\n",
       "      <td>123.158753</td>\n",
       "      <td>217.845926</td>\n",
       "      <td>251.216797</td>\n",
       "    </tr>\n",
       "    <tr>\n",
       "      <th>50648</th>\n",
       "      <td>11225</td>\n",
       "      <td>73.804589</td>\n",
       "      <td>68.552898</td>\n",
       "      <td>87.101562</td>\n",
       "    </tr>\n",
       "    <tr>\n",
       "      <th>50649</th>\n",
       "      <td>11238</td>\n",
       "      <td>341.565764</td>\n",
       "      <td>268.355776</td>\n",
       "      <td>295.249023</td>\n",
       "    </tr>\n",
       "  </tbody>\n",
       "</table>\n",
       "<p>12663 rows × 4 columns</p>\n",
       "</div>"
      ],
      "text/plain": [
       "         zip  lasso_pred_price  ridge_pred_price  knn_pred_price\n",
       "37987  10454        195.988387        119.342366      178.815430\n",
       "37988  10016        228.271837        267.555882      312.465820\n",
       "37989  11220         58.956774         49.271334       44.864258\n",
       "37990  11203        191.748204        173.631577      272.821289\n",
       "37991  10028        155.093004        182.527104      192.964844\n",
       "37992  11206        147.014236        162.665765      188.779297\n",
       "37993  10009        204.895237        259.456066      267.955078\n",
       "37994  11211        158.145878        147.542439      164.164062\n",
       "37995  11206        161.334390        168.084909      194.145508\n",
       "37996  11207         68.337345         67.982715      128.209961\n",
       "37997  10128         74.468743         92.449501      127.279297\n",
       "37998  10019        151.076188        212.766680      224.707031\n",
       "37999  10025        243.450088        281.063643      298.537109\n",
       "38000  11212         71.553836         59.603823       55.677734\n",
       "38001  11217         58.221423         62.693136       62.399414\n",
       "38002  11419        167.066169        129.842625      158.933594\n",
       "38003  10031         65.095142         65.665919       64.063477\n",
       "38004  11206         57.033876         52.810325       32.715820\n",
       "38005  10021        117.854802        138.722326      150.110352\n",
       "38006  11249        154.917765        151.913069      169.959961\n",
       "38007  10065        137.413540        158.346165      164.845703\n",
       "38008  11207         71.755609         62.652207       98.335938\n",
       "38009  10009        134.742704        196.702674      214.974609\n",
       "38010  10462        114.629256         97.654496      173.746094\n",
       "38011  10003         68.509968         83.812326       99.892578\n",
       "38012  11212         63.478332         50.012887       24.878906\n",
       "38013  11226        234.101320        192.397647      243.701172\n",
       "38014  11206         61.454592         54.676426       35.059570\n",
       "38015  11216        127.299201        100.802473      103.690430\n",
       "38016  11225         78.543537         63.826793       64.762695\n",
       "...      ...               ...               ...             ...\n",
       "50620  10462         63.969542         75.970399      142.888672\n",
       "50621  10036         70.945355         78.320115      134.977539\n",
       "50622  11102         68.493564         76.818351      134.829102\n",
       "50623  10001        117.836923        179.843923      203.650391\n",
       "50624  10036         87.991895        135.343172      196.927734\n",
       "50625  10012        169.757046        276.499160      306.416992\n",
       "50626  11378        244.359659        173.956454      228.779297\n",
       "50627  10028        127.385903        166.624027      196.276367\n",
       "50628  10021         74.121459         98.302340      108.807617\n",
       "50629  10021         75.931821        106.449671      154.514648\n",
       "50630  11207         83.269966         71.255660      107.585938\n",
       "50631  11207         80.302034         69.925107      103.947266\n",
       "50632  11207         73.123437         63.905203       86.926758\n",
       "50633  11221         59.315869         58.376083       61.908203\n",
       "50634  11207         83.268810         71.255212      107.585938\n",
       "50635  11225        274.842444        262.000680      342.375000\n",
       "50636  11207         80.300640         69.924557      103.947266\n",
       "50637  10012        187.592164        329.780353      334.492188\n",
       "50638  11207         73.121914         63.904600       86.926758\n",
       "50639  10012        132.182842        198.300586      222.952148\n",
       "50640  10004        120.421147        173.915106      192.811523\n",
       "50641  10012        145.157844        216.979580      239.972656\n",
       "50642  11231        148.749738        143.361158      203.039062\n",
       "50643  11206        129.072729        115.971157      150.224609\n",
       "50644  10031         68.600406         70.986698       91.303711\n",
       "50645  10030         74.058829         80.841180      112.075195\n",
       "50646  10019        120.004216        166.812667      190.503906\n",
       "50647  10014        123.158753        217.845926      251.216797\n",
       "50648  11225         73.804589         68.552898       87.101562\n",
       "50649  11238        341.565764        268.355776      295.249023\n",
       "\n",
       "[12663 rows x 4 columns]"
      ]
     },
     "execution_count": 107,
     "metadata": {},
     "output_type": "execute_result"
    }
   ],
   "source": [
    "pred_price_by_zip"
   ]
  },
  {
   "cell_type": "code",
   "execution_count": null,
   "metadata": {},
   "outputs": [],
   "source": []
  },
  {
   "cell_type": "code",
   "execution_count": 0,
   "metadata": {
    "colab": {},
    "colab_type": "code",
    "id": "zBoanmEC1li3"
   },
   "outputs": [],
   "source": [
    "# all variables 677.381341\n",
    "# TODO:\n",
    "# lasso variable selection\n",
    "# price prediction tool - what features would be beneficial\n",
    "# price vs rental(not up to date)\n",
    "# combine models\n",
    "# our idea: "
   ]
  }
 ],
 "metadata": {
  "colab": {
   "collapsed_sections": [],
   "machine_shape": "hm",
   "name": "airbnb-modeling.ipynb",
   "provenance": []
  },
  "kernelspec": {
   "display_name": "Python 3",
   "language": "python",
   "name": "python3"
  },
  "language_info": {
   "codemirror_mode": {
    "name": "ipython",
    "version": 3
   },
   "file_extension": ".py",
   "mimetype": "text/x-python",
   "name": "python",
   "nbconvert_exporter": "python",
   "pygments_lexer": "ipython3",
   "version": "3.6.8"
  }
 },
 "nbformat": 4,
 "nbformat_minor": 1
}

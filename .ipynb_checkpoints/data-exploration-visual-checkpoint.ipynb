{
 "cells": [
  {
   "cell_type": "code",
   "execution_count": 1,
   "metadata": {},
   "outputs": [],
   "source": [
    "import pandas as pd\n",
    "import numpy as np\n",
    "import matplotlib\n",
    "import seaborn as sb\n",
    "import matplotlib.pyplot as plt\n",
    "import matplotlib.cm as cmx\n",
    "import matplotlib.colors as colors\n",
    "import math\n",
    "import pylab\n",
    "import scipy.stats as stats\n",
    "import seaborn as sns\n",
    "from sklearn import preprocessing\n",
    "from sklearn.preprocessing import OneHotEncoder\n",
    "from sklearn.linear_model import LinearRegression, RidgeCV, LassoCV\n",
    "from sklearn import metrics\n",
    "%matplotlib inline"
   ]
  },
  {
   "cell_type": "code",
   "execution_count": 2,
   "metadata": {},
   "outputs": [],
   "source": [
    "listing = pd.read_csv(\"data/listing_processed.csv\", header=0)"
   ]
  },
  {
   "cell_type": "code",
   "execution_count": 25,
   "metadata": {},
   "outputs": [
    {
     "data": {
      "text/plain": [
       "40.0"
      ]
     },
     "execution_count": 25,
     "metadata": {},
     "output_type": "execute_result"
    }
   ],
   "source": [
    "# recommend some feature settings for users\n",
    "listing[\"cleaning_fee\"].median()"
   ]
  },
  {
   "cell_type": "code",
   "execution_count": 26,
   "metadata": {},
   "outputs": [
    {
     "data": {
      "text/plain": [
       "0.0"
      ]
     },
     "execution_count": 26,
     "metadata": {},
     "output_type": "execute_result"
    }
   ],
   "source": [
    "listing[\"extra_people\"].median()"
   ]
  },
  {
   "cell_type": "code",
   "execution_count": null,
   "metadata": {},
   "outputs": [],
   "source": []
  },
  {
   "cell_type": "code",
   "execution_count": 27,
   "metadata": {},
   "outputs": [
    {
     "data": {
      "text/plain": [
       "(array([4.7279e+04, 2.7010e+03, 1.7700e+02, 2.7000e+01, 8.0000e+00,\n",
       "        1.0000e+00, 2.0000e+00, 0.0000e+00, 0.0000e+00, 1.0000e+00]),\n",
       " array([ 0. ,  2.1,  4.2,  6.3,  8.4, 10.5, 12.6, 14.7, 16.8, 18.9, 21. ]),\n",
       " <a list of 10 Patch objects>)"
      ]
     },
     "execution_count": 27,
     "metadata": {},
     "output_type": "execute_result"
    },
    {
     "data": {
      "image/png": "[encoded data removed]",
      "text/plain": [
       "<Figure size 432x288 with 1 Axes>"
      ]
     },
     "metadata": {
      "needs_background": "light"
     },
     "output_type": "display_data"
    }
   ],
   "source": [
    "# plot some helpers\n",
    "plt.hist(listing['bedrooms'])"
   ]
  },
  {
   "cell_type": "code",
   "execution_count": 28,
   "metadata": {},
   "outputs": [
    {
     "data": {
      "text/plain": [
       "190"
      ]
     },
     "execution_count": 28,
     "metadata": {},
     "output_type": "execute_result"
    }
   ],
   "source": [
    "len(listing['zipcode'].unique())"
   ]
  },
  {
   "cell_type": "code",
   "execution_count": 29,
   "metadata": {},
   "outputs": [
    {
     "data": {
      "text/plain": [
       "223"
      ]
     },
     "execution_count": 29,
     "metadata": {},
     "output_type": "execute_result"
    }
   ],
   "source": [
    "len(listing['neighbourhood_cleansed'].unique())"
   ]
  },
  {
   "cell_type": "code",
   "execution_count": 17,
   "metadata": {},
   "outputs": [
    {
     "data": {
      "text/plain": [
       "array(['Midtown', 'Clinton Hill', 'Murray Hill', \"Hell's Kitchen\",\n",
       "       'Upper West Side', 'Chinatown', 'West Village', 'South Slope',\n",
       "       'East Harlem', 'Fort Greene', 'Crown Heights', 'Park Slope',\n",
       "       'Bedford-Stuyvesant', 'Inwood', 'East Village', 'Harlem',\n",
       "       'Bushwick', 'Flatbush', 'Lower East Side',\n",
       "       'Prospect-Lefferts Gardens', 'Long Island City', 'Williamsburg',\n",
       "       'Greenpoint', 'Kips Bay', 'Nolita', 'Chelsea', 'Upper East Side',\n",
       "       'Red Hook', 'Prospect Heights', 'Washington Heights', 'Woodside',\n",
       "       'Brooklyn Heights', 'Carroll Gardens', 'Gowanus', 'Flatlands',\n",
       "       'Cobble Hill', 'Flushing', 'Boerum Hill', 'Sunnyside',\n",
       "       'St. George', 'Tribeca', 'Highbridge', 'Ridgewood',\n",
       "       'Morningside Heights', 'Jamaica', 'Middle Village',\n",
       "       'Ditmars Steinway', 'Flatiron District', 'Windsor Terrace',\n",
       "       'Roosevelt Island', 'Greenwich Village', 'Little Italy',\n",
       "       'Tompkinsville', 'Gramercy', 'Astoria', 'Kensington',\n",
       "       'Clason Point', 'Eastchester', 'Kingsbridge', 'Two Bridges',\n",
       "       'Rockaway Beach', 'NoHo', 'Forest Hills', 'East Flatbush',\n",
       "       'Woodlawn', 'SoHo', 'University Heights', 'Gravesend', 'Allerton',\n",
       "       'East New York', 'Theater District', 'Sheepshead Bay',\n",
       "       'Emerson Hill', 'Fort Hamilton', 'Bensonhurst', 'Shore Acres',\n",
       "       'Bayswater', 'Sunset Park', 'Richmond Hill', 'DUMBO', 'Elmhurst',\n",
       "       'Brighton Beach', 'Cypress Hills', 'St. Albans', 'Arrochar',\n",
       "       'Financial District', 'Rego Park', 'Wakefield', 'Civic Center',\n",
       "       'Clifton', 'Bay Ridge', 'Maspeth', 'Graniteville',\n",
       "       'Spuyten Duyvil', 'Stapleton', 'Briarwood', 'Columbia St',\n",
       "       'Morris Heights', 'Mott Haven', 'Jackson Heights', 'Longwood',\n",
       "       'Battery Park City', 'Bayside', 'East Elmhurst', 'Concourse',\n",
       "       'Arverne', 'Tottenville', 'Mariners Harbor', 'Concord',\n",
       "       'Borough Park', 'Downtown Brooklyn', 'Kew Gardens',\n",
       "       'College Point', 'Mount Eden', 'Vinegar Hill', 'City Island',\n",
       "       'Glendale', 'Canarsie', 'Port Morris', 'Queens Village',\n",
       "       'Williamsbridge', 'Soundview', 'Woodhaven', 'Woodrow',\n",
       "       'Co-op City', 'Stuyvesant Town', 'Parkchester', 'North Riverdale',\n",
       "       'Dyker Heights', 'Bronxdale', 'Sea Gate', 'Riverdale',\n",
       "       'Ozone Park', 'Bay Terrace', 'Norwood', 'Whitestone', 'Fordham',\n",
       "       'Concourse Village', 'Fieldston', 'Eltingville', 'Fresh Meadows',\n",
       "       'Brownsville', 'Midwood', 'Navy Yard', 'Mount Hope',\n",
       "       'Lighthouse Hill', 'Howard Beach', 'Kew Gardens Hills',\n",
       "       'Jamaica Estates', 'Morris Park', 'West Brighton', 'Far Rockaway',\n",
       "       'South Ozone Park', 'Tremont', 'Corona', 'Springfield Gardens',\n",
       "       'Manhattan Beach', 'Marble Hill', 'Dongan Hills',\n",
       "       'Castleton Corners', 'Hunts Point', 'Neponsit', 'Pelham Bay',\n",
       "       'Randall Manor', 'Throgs Neck', 'Todt Hill', 'West Farms',\n",
       "       'Great Kills', 'Silver Lake', 'Bellerose', 'Morrisania',\n",
       "       'Laurelton', 'Grymes Hill', 'Holliswood', 'Pelham Gardens',\n",
       "       'Belmont', 'Rosedale', 'Edgemere', 'New Brighton', 'Midland Beach',\n",
       "       'Baychester', 'Belle Harbor', 'Bergen Beach', 'Cambria Heights',\n",
       "       'Richmondtown', 'South Beach', 'Claremont Village', 'Howland Hook',\n",
       "       'Melrose', 'Coney Island', 'New Dorp Beach', 'Van Nest',\n",
       "       \"Prince's Bay\", 'Bath Beach', 'Jamaica Hills', 'Oakwood', 'Hollis',\n",
       "       'Schuylerville', 'Huguenot', 'Olinville', 'Edenwald',\n",
       "       'Port Richmond', 'Westerleigh', 'East Morrisania', 'Douglaston',\n",
       "       'Unionport', 'Fort Wadsworth', 'Westchester Square', 'Rosebank',\n",
       "       'New Springville', 'Mill Basin', 'Arden Heights', \"Bull's Head\",\n",
       "       'Grant City', 'New Dorp', 'Breezy Point', 'Castle Hill',\n",
       "       'Willowbrook', 'Gerritsen Beach', 'Little Neck', 'Glen Oaks',\n",
       "       'Country Club', 'Rossville'], dtype=object)"
      ]
     },
     "execution_count": 17,
     "metadata": {},
     "output_type": "execute_result"
    }
   ],
   "source": [
    "listing['neighbourhood_cleansed'].unique()"
   ]
  },
  {
   "cell_type": "code",
   "execution_count": 31,
   "metadata": {},
   "outputs": [
    {
     "name": "stderr",
     "output_type": "stream",
     "text": [
      "/opt/anaconda3/lib/python3.7/site-packages/ipykernel_launcher.py:2: SettingWithCopyWarning: \n",
      "A value is trying to be set on a copy of a slice from a DataFrame\n",
      "\n",
      "See the caveats in the documentation: https://pandas.pydata.org/pandas-docs/stable/user_guide/indexing.html#returning-a-view-versus-a-copy\n",
      "  \n"
     ]
    },
    {
     "data": {
      "text/html": [
       "<div>\n",
       "<style scoped>\n",
       "    .dataframe tbody tr th:only-of-type {\n",
       "        vertical-align: middle;\n",
       "    }\n",
       "\n",
       "    .dataframe tbody tr th {\n",
       "        vertical-align: top;\n",
       "    }\n",
       "\n",
       "    .dataframe thead th {\n",
       "        text-align: right;\n",
       "    }\n",
       "</style>\n",
       "<table border=\"1\" class=\"dataframe\">\n",
       "  <thead>\n",
       "    <tr style=\"text-align: right;\">\n",
       "      <th></th>\n",
       "      <th>zipcode</th>\n",
       "      <th>neighbourhood_cleansed</th>\n",
       "    </tr>\n",
       "  </thead>\n",
       "  <tbody>\n",
       "    <tr>\n",
       "      <th>0</th>\n",
       "      <td>10018</td>\n",
       "      <td>Midtown</td>\n",
       "    </tr>\n",
       "    <tr>\n",
       "      <th>1</th>\n",
       "      <td>11238</td>\n",
       "      <td>Clinton Hill</td>\n",
       "    </tr>\n",
       "    <tr>\n",
       "      <th>2</th>\n",
       "      <td>10016</td>\n",
       "      <td>Murray Hill</td>\n",
       "    </tr>\n",
       "    <tr>\n",
       "      <th>3</th>\n",
       "      <td>10019</td>\n",
       "      <td>Hell's Kitchen</td>\n",
       "    </tr>\n",
       "    <tr>\n",
       "      <th>4</th>\n",
       "      <td>10025</td>\n",
       "      <td>Upper West Side</td>\n",
       "    </tr>\n",
       "    <tr>\n",
       "      <th>...</th>\n",
       "      <td>...</td>\n",
       "      <td>...</td>\n",
       "    </tr>\n",
       "    <tr>\n",
       "      <th>49770</th>\n",
       "      <td>10007</td>\n",
       "      <td>Williamsburg</td>\n",
       "    </tr>\n",
       "    <tr>\n",
       "      <th>49898</th>\n",
       "      <td>10704</td>\n",
       "      <td>Wakefield</td>\n",
       "    </tr>\n",
       "    <tr>\n",
       "      <th>49933</th>\n",
       "      <td>11377</td>\n",
       "      <td>Elmhurst</td>\n",
       "    </tr>\n",
       "    <tr>\n",
       "      <th>50014</th>\n",
       "      <td>11103</td>\n",
       "      <td>Washington Heights</td>\n",
       "    </tr>\n",
       "    <tr>\n",
       "      <th>50099</th>\n",
       "      <td>10041</td>\n",
       "      <td>DUMBO</td>\n",
       "    </tr>\n",
       "  </tbody>\n",
       "</table>\n",
       "<p>696 rows × 2 columns</p>\n",
       "</div>"
      ],
      "text/plain": [
       "       zipcode neighbourhood_cleansed\n",
       "0        10018                Midtown\n",
       "1        11238           Clinton Hill\n",
       "2        10016            Murray Hill\n",
       "3        10019         Hell's Kitchen\n",
       "4        10025        Upper West Side\n",
       "...        ...                    ...\n",
       "49770    10007           Williamsburg\n",
       "49898    10704              Wakefield\n",
       "49933    11377               Elmhurst\n",
       "50014    11103     Washington Heights\n",
       "50099    10041                  DUMBO\n",
       "\n",
       "[696 rows x 2 columns]"
      ]
     },
     "execution_count": 31,
     "metadata": {},
     "output_type": "execute_result"
    }
   ],
   "source": [
    "temp = listing[['zipcode', 'neighbourhood_cleansed']]\n",
    "temp.drop_duplicates(inplace=True)\n",
    "temp"
   ]
  },
  {
   "cell_type": "code",
   "execution_count": 32,
   "metadata": {},
   "outputs": [],
   "source": [
    "temp.to_csv(\"../saved-models/zipcode-neigh-dic.csv\", index=False)"
   ]
  },
  {
   "cell_type": "code",
   "execution_count": 5,
   "metadata": {},
   "outputs": [
    {
     "data": {
      "text/plain": [
       "(array([23042.,     0., 11747.,     0., 15228.,     0.,    62.,     0.,\n",
       "           92.,    25.]),\n",
       " array([0. , 0.5, 1. , 1.5, 2. , 2.5, 3. , 3.5, 4. , 4.5, 5. ]),\n",
       " <a list of 10 Patch objects>)"
      ]
     },
     "execution_count": 5,
     "metadata": {},
     "output_type": "execute_result"
    },
    {
     "data": {
      "image/png": "[encoded data removed]",
      "text/plain": [
       "<Figure size 432x288 with 1 Axes>"
      ]
     },
     "metadata": {
      "needs_background": "light"
     },
     "output_type": "display_data"
    }
   ],
   "source": [
    "plt.hist(listing['cancellation_policy'])"
   ]
  },
  {
   "cell_type": "code",
   "execution_count": 6,
   "metadata": {},
   "outputs": [
    {
     "data": {
      "text/plain": [
       "(array([4.5246e+04, 1.2590e+03, 2.7940e+03, 5.7000e+02, 1.9200e+02,\n",
       "        1.6000e+01, 5.5000e+01, 2.7000e+01, 9.0000e+00, 2.8000e+01]),\n",
       " array([ 1. ,  2.5,  4. ,  5.5,  7. ,  8.5, 10. , 11.5, 13. , 14.5, 16. ]),\n",
       " <a list of 10 Patch objects>)"
      ]
     },
     "execution_count": 6,
     "metadata": {},
     "output_type": "execute_result"
    },
    {
     "data": {
      "image/png": "[encoded data removed]",
      "text/plain": [
       "<Figure size 432x288 with 1 Axes>"
      ]
     },
     "metadata": {
      "needs_background": "light"
     },
     "output_type": "display_data"
    }
   ],
   "source": [
    "plt.hist(listing['guests_included'])"
   ]
  },
  {
   "cell_type": "code",
   "execution_count": 9,
   "metadata": {},
   "outputs": [
    {
     "data": {
      "text/plain": [
       "1.0"
      ]
     },
     "execution_count": 9,
     "metadata": {},
     "output_type": "execute_result"
    }
   ],
   "source": [
    "listing['guests_included'].median()"
   ]
  },
  {
   "cell_type": "code",
   "execution_count": null,
   "metadata": {},
   "outputs": [],
   "source": []
  }
 ],
 "metadata": {
  "kernelspec": {
   "display_name": "Python 3",
   "language": "python",
   "name": "python3"
  },
  "language_info": {
   "codemirror_mode": {
    "name": "ipython",
    "version": 3
   },
   "file_extension": ".py",
   "mimetype": "text/x-python",
   "name": "python",
   "nbconvert_exporter": "python",
   "pygments_lexer": "ipython3",
   "version": "3.7.6"
  }
 },
 "nbformat": 4,
 "nbformat_minor": 4
}
